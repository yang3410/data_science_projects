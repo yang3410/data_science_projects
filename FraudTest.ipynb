{
 "cells": [
  {
   "cell_type": "markdown",
   "id": "683ccb6a-9277-4fdf-8c21-17880b216a14",
   "metadata": {
    "id": "683ccb6a-9277-4fdf-8c21-17880b216a14"
   },
   "source": [
    "# Fraud Test data\n",
    "\n",
    "Data from https://www.kaggle.com/datasets/kartik2112/fraud-detection"
   ]
  },
  {
   "cell_type": "markdown",
   "id": "e3919976-0735-4304-a850-48a4ea9ecba3",
   "metadata": {},
   "source": [
    "------------------ google colab ---------------------"
   ]
  },
  {
   "cell_type": "code",
   "execution_count": 2,
   "id": "n2f2mqvwDH10",
   "metadata": {
    "colab": {
     "base_uri": "https://localhost:8080/"
    },
    "executionInfo": {
     "elapsed": 18256,
     "status": "ok",
     "timestamp": 1753554473719,
     "user": {
      "displayName": "Yang Yang",
      "userId": "04505395149013680450"
     },
     "user_tz": 240
    },
    "id": "n2f2mqvwDH10",
    "outputId": "51c311f0-4165-468d-a55f-7d734b3d166c"
   },
   "outputs": [
    {
     "name": "stdout",
     "output_type": "stream",
     "text": [
      "Mounted at /content/drive\n"
     ]
    }
   ],
   "source": [
    "from google.colab import drive\n",
    "drive.mount('/content/drive')"
   ]
  },
  {
   "cell_type": "code",
   "execution_count": 3,
   "id": "3azHyf8JDGGN",
   "metadata": {
    "colab": {
     "base_uri": "https://localhost:8080/"
    },
    "executionInfo": {
     "elapsed": 312,
     "status": "ok",
     "timestamp": 1753554477544,
     "user": {
      "displayName": "Yang Yang",
      "userId": "04505395149013680450"
     },
     "user_tz": 240
    },
    "id": "3azHyf8JDGGN",
    "outputId": "5ea658af-a46d-4809-8197-36019718af5f"
   },
   "outputs": [
    {
     "name": "stdout",
     "output_type": "stream",
     "text": [
      "/content/drive/MyDrive/deep-learning/Project\n"
     ]
    }
   ],
   "source": [
    "cd 'drive/MyDrive/deep-learning/Project'"
   ]
  },
  {
   "cell_type": "markdown",
   "id": "528a0cea-f5bc-4e32-948d-d61ba14cc4cf",
   "metadata": {},
   "source": [
    "-------------------------------------------"
   ]
  },
  {
   "cell_type": "markdown",
   "id": "9585ef16-6536-41e8-a15c-9eb532bfa13c",
   "metadata": {
    "id": "9585ef16-6536-41e8-a15c-9eb532bfa13c"
   },
   "source": [
    "## 1. Load data"
   ]
  },
  {
   "cell_type": "code",
   "execution_count": 2,
   "id": "20a16e8c-190f-4fab-be8c-cb9832121d19",
   "metadata": {
    "executionInfo": {
     "elapsed": 318,
     "status": "ok",
     "timestamp": 1753554479950,
     "user": {
      "displayName": "Yang Yang",
      "userId": "04505395149013680450"
     },
     "user_tz": 240
    },
    "id": "20a16e8c-190f-4fab-be8c-cb9832121d19"
   },
   "outputs": [],
   "source": [
    "import pandas as pd\n",
    "import numpy as np\n",
    "import math\n",
    "import matplotlib.pyplot as plt"
   ]
  },
  {
   "cell_type": "code",
   "execution_count": null,
   "id": "c2584b82-dcba-47e2-aaf7-179fd3f085bb",
   "metadata": {
    "id": "c2584b82-dcba-47e2-aaf7-179fd3f085bb"
   },
   "outputs": [],
   "source": [
    "'''\n",
    "data = pd.read_csv('ieee-fraud-detection/train_transaction.csv')\n",
    "data.shape # (590540, 394)\n",
    "data.to_pickle('ieee_pickled.pkl')\n",
    "'''"
   ]
  },
  {
   "cell_type": "code",
   "execution_count": 3,
   "id": "535d93ee-0a66-4c47-9444-ff2b5b565d24",
   "metadata": {
    "colab": {
     "base_uri": "https://localhost:8080/"
    },
    "executionInfo": {
     "elapsed": 25045,
     "status": "ok",
     "timestamp": 1753554506947,
     "user": {
      "displayName": "Yang Yang",
      "userId": "04505395149013680450"
     },
     "user_tz": 240
    },
    "id": "535d93ee-0a66-4c47-9444-ff2b5b565d24",
    "outputId": "80c0b18c-a72e-4ad8-a9ee-2548bd002e58"
   },
   "outputs": [
    {
     "data": {
      "text/plain": [
       "(590540, 394)"
      ]
     },
     "execution_count": 3,
     "metadata": {},
     "output_type": "execute_result"
    }
   ],
   "source": [
    "data = pd.read_pickle('ieee_pickled.pkl')\n",
    "data.shape # size (590540, 394), second one is label"
   ]
  },
  {
   "cell_type": "code",
   "execution_count": 4,
   "id": "612af58a-8098-487a-9317-431d730ff0a1",
   "metadata": {
    "colab": {
     "base_uri": "https://localhost:8080/"
    },
    "executionInfo": {
     "elapsed": 16,
     "status": "ok",
     "timestamp": 1753554509587,
     "user": {
      "displayName": "Yang Yang",
      "userId": "04505395149013680450"
     },
     "user_tz": 240
    },
    "id": "612af58a-8098-487a-9317-431d730ff0a1",
    "outputId": "1ed2ee7a-1402-441c-c4b4-db3c0eb28c11"
   },
   "outputs": [
    {
     "name": "stdout",
     "output_type": "stream",
     "text": [
      "20663\n",
      "percent positive =  0.03499000914417313\n"
     ]
    }
   ],
   "source": [
    "labels = data.iloc[:, 1]\n",
    "n_positive = sum(labels)\n",
    "print(n_positive)\n",
    "print('percent positive = ', n_positive/len(labels))"
   ]
  },
  {
   "cell_type": "code",
   "execution_count": null,
   "id": "6dfda7d1-9784-47a5-af09-b0ca59779eb0",
   "metadata": {
    "id": "6dfda7d1-9784-47a5-af09-b0ca59779eb0"
   },
   "outputs": [],
   "source": [
    "#labels = torch.from_numpy(labels.to_numpy()).float()\n",
    "#torch.save(labels, 'labels.pt')"
   ]
  },
  {
   "cell_type": "markdown",
   "id": "I3n7vS00fiyy",
   "metadata": {
    "id": "I3n7vS00fiyy"
   },
   "source": [
    "=================== scratch work ==================<br>\n",
    "TransactionID is just an index, exclude from analysis.<br>\n",
    "TransactionDT some kind of time, can process to get month/day. <br>\n",
    "Day and start_day extracted can be used for userid. <br>\n",
    "\n",
    "The C columns have no missing values. "
   ]
  },
  {
   "cell_type": "code",
   "execution_count": 53,
   "id": "c75e23c8-ea2d-482a-ae23-b4a8e2254f11",
   "metadata": {},
   "outputs": [
    {
     "name": "stdout",
     "output_type": "stream",
     "text": [
      "Index(['dist1'], dtype='object')\n"
     ]
    }
   ],
   "source": [
    "print(data.columns[13:14])"
   ]
  },
  {
   "cell_type": "code",
   "execution_count": 46,
   "id": "0A7AIB7Wf01z",
   "metadata": {
    "executionInfo": {
     "elapsed": 10,
     "status": "ok",
     "timestamp": 1753554514372,
     "user": {
      "displayName": "Yang Yang",
      "userId": "04505395149013680450"
     },
     "user_tz": 240
    },
    "id": "0A7AIB7Wf01z"
   },
   "outputs": [],
   "source": [
    "Dcolumns = [c for c in data.columns if c[0] == 'D']\n",
    "Ccolumns = [c for c in data.columns if c[0] == 'C']\n",
    "Mcolumns = [c for c in data.columns if c[0] == 'M']\n",
    "Vcolumns = [c for c in data.columns if c[0] == 'V']\n",
    "Cardcolumns = [c for c in data.columns if c.startswith('card')]"
   ]
  },
  {
   "cell_type": "code",
   "execution_count": 29,
   "id": "kpstN6uebNw0",
   "metadata": {
    "executionInfo": {
     "elapsed": 42,
     "status": "ok",
     "timestamp": 1753546788613,
     "user": {
      "displayName": "Yang Yang",
      "userId": "04505395149013680450"
     },
     "user_tz": 240
    },
    "id": "kpstN6uebNw0"
   },
   "outputs": [],
   "source": [
    "data['day']=data['TransactionDT']//(60*60*24)\n",
    "data['start_date'] = data['day']-data['D1']+10000"
   ]
  },
  {
   "cell_type": "markdown",
   "id": "d3816acb-7e39-47b2-b375-406cac8c5056",
   "metadata": {
    "id": "d3816acb-7e39-47b2-b375-406cac8c5056",
    "jp-MarkdownHeadingCollapsed": true
   },
   "source": [
    "### 1.1 (optional) About missing values"
   ]
  },
  {
   "cell_type": "code",
   "execution_count": null,
   "id": "d3d4e9a9-5653-443f-8670-58c8d3b1e42f",
   "metadata": {
    "id": "d3d4e9a9-5653-443f-8670-58c8d3b1e42f"
   },
   "outputs": [],
   "source": [
    "nan_count = data.isna().sum()\n",
    "plt.plot(nan_count)\n",
    "plt.yscale('log')\n",
    "plt.ylabel('number of missing values'), plt.xlabel('features')\n",
    "plt.show()"
   ]
  },
  {
   "cell_type": "code",
   "execution_count": null,
   "id": "873757b9-4dca-4819-b952-f61d2a55728b",
   "metadata": {
    "id": "873757b9-4dca-4819-b952-f61d2a55728b"
   },
   "outputs": [],
   "source": [
    "bad_col = data.columns[nan_count> 1e5]\n",
    "print(bad_col)\n",
    "good_col = data.columns[nan_count < 100]\n",
    "print(len(good_col))"
   ]
  },
  {
   "cell_type": "markdown",
   "id": "f5e8829d-764a-4846-ab7b-ed23eddad7a3",
   "metadata": {
    "id": "f5e8829d-764a-4846-ab7b-ed23eddad7a3"
   },
   "source": [
    "there are 19 features with no missing values, 52 features with fewer than 100 missing values, 94 features with fewer than 1000 missing values.<br>\n",
    "In the case of < 100 missing values, all columns with missing values share the same 12 indices. 2 of these are fraud.<br>\n",
    "In the case of < 1000 missing values, the missing values lie in 326 different rows. Among these, 19 of them are fraud. This ratio is a bit high."
   ]
  },
  {
   "cell_type": "code",
   "execution_count": null,
   "id": "aee21564-850f-4560-8238-0e48c4289e82",
   "metadata": {
    "id": "aee21564-850f-4560-8238-0e48c4289e82",
    "scrolled": true
   },
   "outputs": [],
   "source": [
    "total_missing = []\n",
    "for col in good_col:\n",
    "    missing_idx = data.index[data[col].isna()].tolist()\n",
    "    total_missing.extend(missing_idx)\n",
    "\n",
    "print('number of rows with missing values', len(set(total_missing)))\n",
    "print('fraudulent', sum(data.isFraud[list(set(total_missing))]))\n",
    "\n",
    "data_nomissing = data.drop(set(total_missing))\n",
    "data_label = data_nomissing['isFraud']\n",
    "data_features = data_nomissing.drop(columns=['isFraud'])"
   ]
  },
  {
   "cell_type": "code",
   "execution_count": null,
   "id": "08cee417-1926-4c46-bb84-149c37e4cdfe",
   "metadata": {},
   "outputs": [],
   "source": []
  },
  {
   "cell_type": "markdown",
   "id": "8a564342-2bc2-4d04-8557-36ec627b78f3",
   "metadata": {
    "id": "8a564342-2bc2-4d04-8557-36ec627b78f3"
   },
   "source": [
    "## 2. Preprocessing: split by feature type\n",
    "Split into numerical and categorial columns.\n",
    "For categorical, use one hot or 1/0.\n",
    "For numerical, normalize."
   ]
  },
  {
   "cell_type": "markdown",
   "id": "c1ca74cd-2888-4ed7-a537-b2f7ef593cbe",
   "metadata": {},
   "source": [
    "### 2.1 Features\n",
    "\n",
    "https://www.kaggle.com/c/ieee-fraud-detection/discussion/101203<br>\n",
    "Transaction table<br>\n",
    "“It contains money transfer and also other gifting goods and service, like you booked a ticket for others, etc.”\n",
    "\n",
    "TransactionDT: timedelta from a given reference datetime (not an actual timestamp)\n",
    "“TransactionDT first value is 86400, which corresponds to the number of seconds in a day (60 * 60 * 24 = 86400) so I think the unit is seconds. Using this, we know the data spans 6 months, as the maximum value is 15811131, which would correspond to day 183.”\n",
    "\n",
    "TransactionAMT: transaction payment amount in USD\n",
    "“Some of the transaction amounts have three decimal places to the right of the decimal point. There seems to be a link to three decimal places and a blank addr1 and addr2 field. Is it possible that these are foreign transactions and that, for example, the 75.887 in row 12 is the result of multiplying a foreign currency amount by an exchange rate?”\n",
    "\n",
    "ProductCD: product code, the product for each transaction\n",
    "“Product isn't necessary to be a real 'product' (like one item to be added to the shopping cart). It could be any kind of service.”\n",
    "\n",
    "card1 - card6: payment card information, such as card type, card category, issue bank, country, etc.\n",
    "\n",
    "addr: address<br>\n",
    "“both addresses are for purchaser\n",
    "addr1 as billing region\n",
    "addr2 as billing country”\n",
    "\n",
    "dist: distance<br>\n",
    "\"distances between (not limited) billing address, mailing address, zip code, IP address, phone area, etc.”\n",
    "\n",
    "P_ and (R__) emaildomain: purchaser and recipient email domain\n",
    "“ certain transactions don't need recipient, so R_emaildomain is null.”\n",
    "\n",
    "C1-C14: counting, such as how many addresses are found to be associated with the payment card, etc. The actual meaning is masked.\n",
    "“Can you please give more examples of counts in the variables C1-15? Would these be like counts of phone numbers, email addresses, names associated with the user? I can't think of 15.\n",
    "Your guess is good, plus like device, ipaddr, billingaddr, etc. Also these are for both purchaser and recipient, which doubles the number.”\n",
    "\n",
    "D1-D15: timedelta, such as days between previous transaction, etc.\n",
    "\n",
    "M1-M9: match, such as names on card and address, etc.\n",
    "\n",
    "Vxxx: Vesta engineered rich features, including ranking, counting, and other entity relations.\n",
    "“For example, how many times the payment card associated with a IP and email or address appeared in 24 hours time range, etc.”\n",
    "\"All Vesta features were derived as numerical. some of them are count of orders within a clustering, a time-period or condition, so the value is finite and has ordering (or ranking). I wouldn't recommend to treat any of them as categorical. If any of them resulted in binary by chance, it maybe worth trying.\"\n",
    "\n",
    "Identity Table<br>\n",
    "Variables in this table are identity information – network connection information (IP, ISP, Proxy, etc) and digital signature (UA/browser/os/version, etc) associated with transactions.\n",
    "They're collected by Vesta’s fraud protection system and digital security partners.\n",
    "(The field names are masked and pairwise dictionary will not be provided for privacy protection and contract agreement)\n",
    "\n",
    "DeviceInfo : https://www.kaggle.com/c/ieee-fraud-detection/discussion/101203#583227\n",
    "\n",
    "“id01 to id11 are numerical features for identity, which is collected by Vesta and security partners such as device rating, ip_domain rating, proxy rating, etc. Also it recorded behavioral fingerprint like account login times/failed to login times, how long an account stayed on the page, etc. All of these are not able to elaborate due to security partner T&C. I hope you could get basic meaning of these features, and by mentioning them as numerical/categorical, you won't deal with them inappropriately.”"
   ]
  },
  {
   "cell_type": "code",
   "execution_count": 66,
   "id": "77c4f501-fc1e-46f9-acc6-34f8d22c94fa",
   "metadata": {
    "scrolled": true
   },
   "outputs": [
    {
     "name": "stdout",
     "output_type": "stream",
     "text": [
      "col1 and col2 have the same missing values  False\n",
      "False\n"
     ]
    },
    {
     "data": {
      "image/png": "[encoded data removed]",
      "text/plain": [
       "<Figure size 640x480 with 1 Axes>"
      ]
     },
     "metadata": {},
     "output_type": "display_data"
    },
    {
     "name": "stdout",
     "output_type": "stream",
     "text": [
      "card2\n",
      "111.0      2\n",
      "122.0      2\n",
      "134.0      7\n",
      "213.0      3\n",
      "277.0      3\n",
      "343.0      2\n",
      "349.0      2\n",
      "352.0      2\n",
      "360.0      2\n",
      "368.0      3\n",
      "378.0      3\n",
      "390.0      2\n",
      "404.0      2\n",
      "439.0      2\n",
      "463.0      5\n",
      "469.0      3\n",
      "514.0      2\n",
      "555.0    107\n",
      "Name: card3, dtype: int64\n"
     ]
    }
   ],
   "source": [
    "# compare nested relationship between columns \n",
    "col1 = 'card2'\n",
    "col2 = 'card3'\n",
    "\n",
    "print('col1 and col2 have the same missing values ', (data[col1].isna() == data[col2].isna()).all()) # addr1 and addr2 have the same missing values\n",
    "data_cols = data[[col1, col2]]\n",
    "nested = data_cols.groupby(col1)[col2].nunique()\n",
    "print((nested ==1).all())\n",
    "plt.hist(nested)\n",
    "plt.show()\n",
    "print(nested[nested!=1]) # some 35 of addr1 are associated with multiple addr2 values. if these are region vs country, maybe error?? "
   ]
  },
  {
   "cell_type": "code",
   "execution_count": 63,
   "id": "2d1701a2-ad4e-4dfb-84f5-3f0d1de86a10",
   "metadata": {},
   "outputs": [
    {
     "data": {
      "text/plain": [
       "352271"
      ]
     },
     "execution_count": 63,
     "metadata": {},
     "output_type": "execute_result"
    }
   ],
   "source": []
  },
  {
   "cell_type": "code",
   "execution_count": 5,
   "id": "1a15097d-4e15-4d1c-b26c-2f559dd22bb9",
   "metadata": {
    "colab": {
     "base_uri": "https://localhost:8080/"
    },
    "executionInfo": {
     "elapsed": 2016,
     "status": "ok",
     "timestamp": 1753554637555,
     "user": {
      "displayName": "Yang Yang",
      "userId": "04505395149013680450"
     },
     "user_tz": 240
    },
    "id": "1a15097d-4e15-4d1c-b26c-2f559dd22bb9",
    "outputId": "4cc7f80b-15c0-45b4-bebb-fb7cbc9876b2",
    "scrolled": true
   },
   "outputs": [
    {
     "name": "stdout",
     "output_type": "stream",
     "text": [
      "['TransactionAmt', 'ProductCD', 'C1', 'C2', 'C3', 'C4', 'C5', 'C6', 'C7', 'C8', 'C9', 'C10', 'C11', 'C12', 'C13', 'C14', 'D1', 'D2', 'D3', 'D4', 'D5', 'D6', 'D7', 'D8', 'D9', 'D10', 'D11', 'D12', 'D13', 'D14', 'D15', 'M1', 'M2', 'M3', 'M4', 'M5', 'M6', 'M7', 'M8', 'M9', 'V1', 'V2', 'V3', 'V4', 'V5', 'V6', 'V7', 'V8', 'V9', 'V10', 'V11', 'V12', 'V13', 'V14', 'V15', 'V16', 'V17', 'V18', 'V19', 'V20', 'V21', 'V22', 'V23', 'V24', 'V25', 'V26', 'V27', 'V28', 'V29', 'V30', 'V31', 'V32', 'V33', 'V34', 'V35', 'V36', 'V37', 'V38', 'V39', 'V40', 'V41', 'V42', 'V43', 'V44', 'V45', 'V46', 'V47', 'V48', 'V49', 'V50', 'V51', 'V52', 'V53', 'V54', 'V55', 'V56', 'V57', 'V58', 'V59', 'V60', 'V61', 'V62', 'V63', 'V64', 'V65', 'V66', 'V67', 'V68', 'V69', 'V70', 'V71', 'V72', 'V73', 'V74', 'V75', 'V76', 'V77', 'V78', 'V79', 'V80', 'V81', 'V82', 'V83', 'V84', 'V85', 'V86', 'V87', 'V88', 'V89', 'V90', 'V91', 'V92', 'V93', 'V94', 'V95', 'V96', 'V97', 'V98', 'V99', 'V100', 'V101', 'V102', 'V103', 'V104', 'V105', 'V106', 'V107', 'V108', 'V109', 'V110', 'V111', 'V112', 'V113', 'V114', 'V115', 'V116', 'V117', 'V118', 'V119', 'V120', 'V121', 'V122', 'V123', 'V124', 'V125', 'V126', 'V127', 'V128', 'V129', 'V130', 'V131', 'V132', 'V133', 'V134', 'V135', 'V136', 'V137', 'V138', 'V139', 'V140', 'V141', 'V142', 'V143', 'V144', 'V145', 'V146', 'V147', 'V148', 'V149', 'V150', 'V151', 'V152', 'V153', 'V154', 'V155', 'V156', 'V157', 'V158', 'V159', 'V160', 'V161', 'V162', 'V163', 'V164', 'V165', 'V166', 'V167', 'V168', 'V169', 'V170', 'V171', 'V172', 'V173', 'V174', 'V175', 'V176', 'V177', 'V178', 'V179', 'V180', 'V181', 'V182', 'V183', 'V184', 'V185', 'V186', 'V187', 'V188', 'V189', 'V190', 'V191', 'V192', 'V193', 'V194', 'V195', 'V196', 'V197', 'V198', 'V199', 'V200', 'V201', 'V202', 'V203', 'V204', 'V205', 'V206', 'V207', 'V208', 'V209', 'V210', 'V211', 'V212', 'V213', 'V214', 'V215', 'V216', 'V217', 'V218', 'V219', 'V220', 'V221', 'V222', 'V223', 'V224', 'V225', 'V226', 'V227', 'V228', 'V229', 'V230', 'V231', 'V232', 'V233', 'V234', 'V235', 'V236', 'V237', 'V238', 'V239', 'V240', 'V241', 'V242', 'V243', 'V244', 'V245', 'V246', 'V247', 'V248', 'V249', 'V250', 'V251', 'V252', 'V253', 'V254', 'V255', 'V256', 'V257', 'V258', 'V259', 'V260', 'V261', 'V262', 'V263', 'V264', 'V265', 'V266', 'V267', 'V268', 'V269', 'V270', 'V271', 'V272', 'V273', 'V274', 'V275', 'V276', 'V277', 'V278', 'V279', 'V280', 'V281', 'V282', 'V283', 'V284', 'V285', 'V286', 'V287', 'V288', 'V289', 'V290', 'V291', 'V292', 'V293', 'V294', 'V295', 'V296', 'V297', 'V298', 'V299', 'V300', 'V301', 'V302', 'V303', 'V304', 'V305', 'V306', 'V307', 'V308', 'V309', 'V310', 'V311', 'V312', 'V313', 'V314', 'V315', 'V316', 'V317', 'V318', 'V319', 'V320', 'V321', 'V322', 'V323', 'V324', 'V325', 'V326', 'V327', 'V328', 'V329', 'V330', 'V331', 'V332', 'V333', 'V334', 'V335', 'V336', 'V337', 'V338', 'V339']\n"
     ]
    }
   ],
   "source": [
    "data_label = data.isFraud\n",
    "data_features = data.drop(columns=['isFraud'])\n",
    "\n",
    "# since TransactionDT is an important feature that separates train and test data, it shouldn't be part of training.\n",
    "# TransactionID is just index\n",
    "columns_remove = ['TransactionID', 'TransactionDT', 'card1', 'card2', 'card3', 'card4', 'card5', 'card6', 'P_emaildomain', 'R_emaildomain', 'addr1', 'addr2', 'dist1', 'dist2']\n",
    "columns_reduced = [c for c in data_features.columns if c not in columns_remove]\n",
    "data_features = data_features[columns_reduced]"
   ]
  },
  {
   "cell_type": "code",
   "execution_count": 11,
   "id": "S7b0jYI6_Tpr",
   "metadata": {
    "colab": {
     "base_uri": "https://localhost:8080/"
    },
    "executionInfo": {
     "elapsed": 708,
     "status": "ok",
     "timestamp": 1753554651362,
     "user": {
      "displayName": "Yang Yang",
      "userId": "04505395149013680450"
     },
     "user_tz": 240
    },
    "id": "S7b0jYI6_Tpr",
    "outputId": "fe049213-de55-4c5a-91e8-c2e135e0f487"
   },
   "outputs": [
    {
     "name": "stdout",
     "output_type": "stream",
     "text": [
      "Numerical columns: ['TransactionAmt', 'C1', 'C2', 'C3', 'C4', 'C5', 'C6', 'C7', 'C8', 'C9', 'C10', 'C11', 'C12', 'C13', 'C14', 'D1', 'D2', 'D3', 'D4', 'D5', 'D6', 'D7', 'D8', 'D9', 'D10', 'D11', 'D12', 'D13', 'D14', 'D15', 'V1', 'V2', 'V3', 'V4', 'V5', 'V6', 'V7', 'V8', 'V9', 'V10', 'V11', 'V12', 'V13', 'V14', 'V15', 'V16', 'V17', 'V18', 'V19', 'V20', 'V21', 'V22', 'V23', 'V24', 'V25', 'V26', 'V27', 'V28', 'V29', 'V30', 'V31', 'V32', 'V33', 'V34', 'V35', 'V36', 'V37', 'V38', 'V39', 'V40', 'V41', 'V42', 'V43', 'V44', 'V45', 'V46', 'V47', 'V48', 'V49', 'V50', 'V51', 'V52', 'V53', 'V54', 'V55', 'V56', 'V57', 'V58', 'V59', 'V60', 'V61', 'V62', 'V63', 'V64', 'V65', 'V66', 'V67', 'V68', 'V69', 'V70', 'V71', 'V72', 'V73', 'V74', 'V75', 'V76', 'V77', 'V78', 'V79', 'V80', 'V81', 'V82', 'V83', 'V84', 'V85', 'V86', 'V87', 'V88', 'V89', 'V90', 'V91', 'V92', 'V93', 'V94', 'V95', 'V96', 'V97', 'V98', 'V99', 'V100', 'V101', 'V102', 'V103', 'V104', 'V105', 'V106', 'V107', 'V108', 'V109', 'V110', 'V111', 'V112', 'V113', 'V114', 'V115', 'V116', 'V117', 'V118', 'V119', 'V120', 'V121', 'V122', 'V123', 'V124', 'V125', 'V126', 'V127', 'V128', 'V129', 'V130', 'V131', 'V132', 'V133', 'V134', 'V135', 'V136', 'V137', 'V138', 'V139', 'V140', 'V141', 'V142', 'V143', 'V144', 'V145', 'V146', 'V147', 'V148', 'V149', 'V150', 'V151', 'V152', 'V153', 'V154', 'V155', 'V156', 'V157', 'V158', 'V159', 'V160', 'V161', 'V162', 'V163', 'V164', 'V165', 'V166', 'V167', 'V168', 'V169', 'V170', 'V171', 'V172', 'V173', 'V174', 'V175', 'V176', 'V177', 'V178', 'V179', 'V180', 'V181', 'V182', 'V183', 'V184', 'V185', 'V186', 'V187', 'V188', 'V189', 'V190', 'V191', 'V192', 'V193', 'V194', 'V195', 'V196', 'V197', 'V198', 'V199', 'V200', 'V201', 'V202', 'V203', 'V204', 'V205', 'V206', 'V207', 'V208', 'V209', 'V210', 'V211', 'V212', 'V213', 'V214', 'V215', 'V216', 'V217', 'V218', 'V219', 'V220', 'V221', 'V222', 'V223', 'V224', 'V225', 'V226', 'V227', 'V228', 'V229', 'V230', 'V231', 'V232', 'V233', 'V234', 'V235', 'V236', 'V237', 'V238', 'V239', 'V240', 'V241', 'V242', 'V243', 'V244', 'V245', 'V246', 'V247', 'V248', 'V249', 'V250', 'V251', 'V252', 'V253', 'V254', 'V255', 'V256', 'V257', 'V258', 'V259', 'V260', 'V261', 'V262', 'V263', 'V264', 'V265', 'V266', 'V267', 'V268', 'V269', 'V270', 'V271', 'V272', 'V273', 'V274', 'V275', 'V276', 'V277', 'V278', 'V279', 'V280', 'V281', 'V282', 'V283', 'V284', 'V285', 'V286', 'V287', 'V288', 'V289', 'V290', 'V291', 'V292', 'V293', 'V294', 'V295', 'V296', 'V297', 'V298', 'V299', 'V300', 'V301', 'V302', 'V303', 'V304', 'V305', 'V306', 'V307', 'V308', 'V309', 'V310', 'V311', 'V312', 'V313', 'V314', 'V315', 'V316', 'V317', 'V318', 'V319', 'V320', 'V321', 'V322', 'V323', 'V324', 'V325', 'V326', 'V327', 'V328', 'V329', 'V330', 'V331', 'V332', 'V333', 'V334', 'V335', 'V336', 'V337', 'V338', 'V339']\n",
      "Categorical columns: ['ProductCD', 'M1', 'M2', 'M3', 'M4', 'M5', 'M6', 'M7', 'M8', 'M9']\n"
     ]
    }
   ],
   "source": [
    "# Numerical columns\n",
    "num_cols = data_features.select_dtypes(include=['int64', 'float64']).columns.tolist()\n",
    "print(\"Numerical columns:\", num_cols)\n",
    "\n",
    "# Categorical columns\n",
    "cat_cols = data_features.select_dtypes(include=['object', 'category']).columns.tolist()\n",
    "print(\"Categorical columns:\", cat_cols)"
   ]
  },
  {
   "cell_type": "markdown",
   "id": "04f52d35-bf26-428e-89f4-5ce6f1bb728c",
   "metadata": {
    "id": "04f52d35-bf26-428e-89f4-5ce6f1bb728c",
    "jp-MarkdownHeadingCollapsed": true
   },
   "source": [
    "### 2.1 Preprocessing: categorical features\n",
    "Among categorical columns, ProductCD has 5 values, card4 has 4, card6 has 4, ------> one hot <br>\n",
    "P_emaildomain, R_emaildomain have a lot (59 and 60)<br>\n",
    "M1-M9 except M4 are True False --------> convert to 1/0 <br>\n",
    "M4 has values M0, M2, M1 ----------> numerical 0, 2, 1"
   ]
  },
  {
   "cell_type": "code",
   "execution_count": null,
   "id": "145b9531-00a0-42c9-9587-6bef6aee4906",
   "metadata": {
    "id": "145b9531-00a0-42c9-9587-6bef6aee4906",
    "scrolled": true
   },
   "outputs": [],
   "source": [
    "#for col in cat_cols:\n",
    "#    print(data[col].nunique())"
   ]
  },
  {
   "cell_type": "code",
   "execution_count": 15,
   "id": "55ab4eeb-a331-4b2b-bddd-6dc45ff23d96",
   "metadata": {
    "executionInfo": {
     "elapsed": 732,
     "status": "ok",
     "timestamp": 1753554693667,
     "user": {
      "displayName": "Yang Yang",
      "userId": "04505395149013680450"
     },
     "user_tz": 240
    },
    "id": "55ab4eeb-a331-4b2b-bddd-6dc45ff23d96"
   },
   "outputs": [],
   "source": [
    "features_expanded = data_features.copy()"
   ]
  },
  {
   "cell_type": "code",
   "execution_count": 16,
   "id": "68352d3e-2070-4180-b27c-c6791619814c",
   "metadata": {
    "colab": {
     "base_uri": "https://localhost:8080/",
     "height": 236
    },
    "executionInfo": {
     "elapsed": 3328,
     "status": "ok",
     "timestamp": 1753554697612,
     "user": {
      "displayName": "Yang Yang",
      "userId": "04505395149013680450"
     },
     "user_tz": 240
    },
    "id": "68352d3e-2070-4180-b27c-c6791619814c",
    "outputId": "4902a565-35af-469a-a079-2d85035f84c2",
    "scrolled": true
   },
   "outputs": [
    {
     "data": {
      "application/vnd.google.colaboratory.intrinsic+json": {
       "type": "dataframe",
       "variable_name": "features_expanded"
      },
      "text/html": [
       "\n",
       "  <div id=\"df-47db8429-d038-43bd-82a1-4f18d06178e7\" class=\"colab-df-container\">\n",
       "    <div>\n",
       "<style scoped>\n",
       "    .dataframe tbody tr th:only-of-type {\n",
       "        vertical-align: middle;\n",
       "    }\n",
       "\n",
       "    .dataframe tbody tr th {\n",
       "        vertical-align: top;\n",
       "    }\n",
       "\n",
       "    .dataframe thead th {\n",
       "        text-align: right;\n",
       "    }\n",
       "</style>\n",
       "<table border=\"1\" class=\"dataframe\">\n",
       "  <thead>\n",
       "    <tr style=\"text-align: right;\">\n",
       "      <th></th>\n",
       "      <th>TransactionAmt</th>\n",
       "      <th>C1</th>\n",
       "      <th>C2</th>\n",
       "      <th>C3</th>\n",
       "      <th>C4</th>\n",
       "      <th>C5</th>\n",
       "      <th>C6</th>\n",
       "      <th>C7</th>\n",
       "      <th>C8</th>\n",
       "      <th>C9</th>\n",
       "      <th>...</th>\n",
       "      <th>V335</th>\n",
       "      <th>V336</th>\n",
       "      <th>V337</th>\n",
       "      <th>V338</th>\n",
       "      <th>V339</th>\n",
       "      <th>ProductCD_C</th>\n",
       "      <th>ProductCD_H</th>\n",
       "      <th>ProductCD_R</th>\n",
       "      <th>ProductCD_S</th>\n",
       "      <th>ProductCD_W</th>\n",
       "    </tr>\n",
       "  </thead>\n",
       "  <tbody>\n",
       "    <tr>\n",
       "      <th>0</th>\n",
       "      <td>68.5</td>\n",
       "      <td>1.0</td>\n",
       "      <td>1.0</td>\n",
       "      <td>0.0</td>\n",
       "      <td>0.0</td>\n",
       "      <td>0.0</td>\n",
       "      <td>1.0</td>\n",
       "      <td>0.0</td>\n",
       "      <td>0.0</td>\n",
       "      <td>1.0</td>\n",
       "      <td>...</td>\n",
       "      <td>NaN</td>\n",
       "      <td>NaN</td>\n",
       "      <td>NaN</td>\n",
       "      <td>NaN</td>\n",
       "      <td>NaN</td>\n",
       "      <td>0</td>\n",
       "      <td>0</td>\n",
       "      <td>0</td>\n",
       "      <td>0</td>\n",
       "      <td>1</td>\n",
       "    </tr>\n",
       "    <tr>\n",
       "      <th>1</th>\n",
       "      <td>29.0</td>\n",
       "      <td>1.0</td>\n",
       "      <td>1.0</td>\n",
       "      <td>0.0</td>\n",
       "      <td>0.0</td>\n",
       "      <td>0.0</td>\n",
       "      <td>1.0</td>\n",
       "      <td>0.0</td>\n",
       "      <td>0.0</td>\n",
       "      <td>0.0</td>\n",
       "      <td>...</td>\n",
       "      <td>NaN</td>\n",
       "      <td>NaN</td>\n",
       "      <td>NaN</td>\n",
       "      <td>NaN</td>\n",
       "      <td>NaN</td>\n",
       "      <td>0</td>\n",
       "      <td>0</td>\n",
       "      <td>0</td>\n",
       "      <td>0</td>\n",
       "      <td>1</td>\n",
       "    </tr>\n",
       "    <tr>\n",
       "      <th>2</th>\n",
       "      <td>59.0</td>\n",
       "      <td>1.0</td>\n",
       "      <td>1.0</td>\n",
       "      <td>0.0</td>\n",
       "      <td>0.0</td>\n",
       "      <td>0.0</td>\n",
       "      <td>1.0</td>\n",
       "      <td>0.0</td>\n",
       "      <td>0.0</td>\n",
       "      <td>1.0</td>\n",
       "      <td>...</td>\n",
       "      <td>NaN</td>\n",
       "      <td>NaN</td>\n",
       "      <td>NaN</td>\n",
       "      <td>NaN</td>\n",
       "      <td>NaN</td>\n",
       "      <td>0</td>\n",
       "      <td>0</td>\n",
       "      <td>0</td>\n",
       "      <td>0</td>\n",
       "      <td>1</td>\n",
       "    </tr>\n",
       "    <tr>\n",
       "      <th>3</th>\n",
       "      <td>50.0</td>\n",
       "      <td>2.0</td>\n",
       "      <td>5.0</td>\n",
       "      <td>0.0</td>\n",
       "      <td>0.0</td>\n",
       "      <td>0.0</td>\n",
       "      <td>4.0</td>\n",
       "      <td>0.0</td>\n",
       "      <td>0.0</td>\n",
       "      <td>1.0</td>\n",
       "      <td>...</td>\n",
       "      <td>NaN</td>\n",
       "      <td>NaN</td>\n",
       "      <td>NaN</td>\n",
       "      <td>NaN</td>\n",
       "      <td>NaN</td>\n",
       "      <td>0</td>\n",
       "      <td>0</td>\n",
       "      <td>0</td>\n",
       "      <td>0</td>\n",
       "      <td>1</td>\n",
       "    </tr>\n",
       "    <tr>\n",
       "      <th>4</th>\n",
       "      <td>50.0</td>\n",
       "      <td>1.0</td>\n",
       "      <td>1.0</td>\n",
       "      <td>0.0</td>\n",
       "      <td>0.0</td>\n",
       "      <td>0.0</td>\n",
       "      <td>1.0</td>\n",
       "      <td>0.0</td>\n",
       "      <td>1.0</td>\n",
       "      <td>0.0</td>\n",
       "      <td>...</td>\n",
       "      <td>0.0</td>\n",
       "      <td>0.0</td>\n",
       "      <td>0.0</td>\n",
       "      <td>0.0</td>\n",
       "      <td>0.0</td>\n",
       "      <td>0</td>\n",
       "      <td>1</td>\n",
       "      <td>0</td>\n",
       "      <td>0</td>\n",
       "      <td>0</td>\n",
       "    </tr>\n",
       "  </tbody>\n",
       "</table>\n",
       "<p>5 rows × 383 columns</p>\n",
       "</div>\n",
       "    <div class=\"colab-df-buttons\">\n",
       "\n",
       "  <div class=\"colab-df-container\">\n",
       "    <button class=\"colab-df-convert\" onclick=\"convertToInteractive('df-47db8429-d038-43bd-82a1-4f18d06178e7')\"\n",
       "            title=\"Convert this dataframe to an interactive table.\"\n",
       "            style=\"display:none;\">\n",
       "\n",
       "  <svg xmlns=\"http://www.w3.org/2000/svg\" height=\"24px\" viewBox=\"0 -960 960 960\">\n",
       "    <path d=\"M120-120v-720h720v720H120Zm60-500h600v-160H180v160Zm220 220h160v-160H400v160Zm0 220h160v-160H400v160ZM180-400h160v-160H180v160Zm440 0h160v-160H620v160ZM180-180h160v-160H180v160Zm440 0h160v-160H620v160Z\"/>\n",
       "  </svg>\n",
       "    </button>\n",
       "\n",
       "  <style>\n",
       "    .colab-df-container {\n",
       "      display:flex;\n",
       "      gap: 12px;\n",
       "    }\n",
       "\n",
       "    .colab-df-convert {\n",
       "      background-color: #E8F0FE;\n",
       "      border: none;\n",
       "      border-radius: 50%;\n",
       "      cursor: pointer;\n",
       "      display: none;\n",
       "      fill: #1967D2;\n",
       "      height: 32px;\n",
       "      padding: 0 0 0 0;\n",
       "      width: 32px;\n",
       "    }\n",
       "\n",
       "    .colab-df-convert:hover {\n",
       "      background-color: #E2EBFA;\n",
       "      box-shadow: 0px 1px 2px rgba(60, 64, 67, 0.3), 0px 1px 3px 1px rgba(60, 64, 67, 0.15);\n",
       "      fill: #174EA6;\n",
       "    }\n",
       "\n",
       "    .colab-df-buttons div {\n",
       "      margin-bottom: 4px;\n",
       "    }\n",
       "\n",
       "    [theme=dark] .colab-df-convert {\n",
       "      background-color: #3B4455;\n",
       "      fill: #D2E3FC;\n",
       "    }\n",
       "\n",
       "    [theme=dark] .colab-df-convert:hover {\n",
       "      background-color: #434B5C;\n",
       "      box-shadow: 0px 1px 3px 1px rgba(0, 0, 0, 0.15);\n",
       "      filter: drop-shadow(0px 1px 2px rgba(0, 0, 0, 0.3));\n",
       "      fill: #FFFFFF;\n",
       "    }\n",
       "  </style>\n",
       "\n",
       "    <script>\n",
       "      const buttonEl =\n",
       "        document.querySelector('#df-47db8429-d038-43bd-82a1-4f18d06178e7 button.colab-df-convert');\n",
       "      buttonEl.style.display =\n",
       "        google.colab.kernel.accessAllowed ? 'block' : 'none';\n",
       "\n",
       "      async function convertToInteractive(key) {\n",
       "        const element = document.querySelector('#df-47db8429-d038-43bd-82a1-4f18d06178e7');\n",
       "        const dataTable =\n",
       "          await google.colab.kernel.invokeFunction('convertToInteractive',\n",
       "                                                    [key], {});\n",
       "        if (!dataTable) return;\n",
       "\n",
       "        const docLinkHtml = 'Like what you see? Visit the ' +\n",
       "          '<a target=\"_blank\" href=https://colab.research.google.com/notebooks/data_table.ipynb>data table notebook</a>'\n",
       "          + ' to learn more about interactive tables.';\n",
       "        element.innerHTML = '';\n",
       "        dataTable['output_type'] = 'display_data';\n",
       "        await google.colab.output.renderOutput(dataTable, element);\n",
       "        const docLink = document.createElement('div');\n",
       "        docLink.innerHTML = docLinkHtml;\n",
       "        element.appendChild(docLink);\n",
       "      }\n",
       "    </script>\n",
       "  </div>\n",
       "\n",
       "\n",
       "    <div id=\"df-8f63cb46-1d93-4d8a-a2ee-3700f572d438\">\n",
       "      <button class=\"colab-df-quickchart\" onclick=\"quickchart('df-8f63cb46-1d93-4d8a-a2ee-3700f572d438')\"\n",
       "                title=\"Suggest charts\"\n",
       "                style=\"display:none;\">\n",
       "\n",
       "<svg xmlns=\"http://www.w3.org/2000/svg\" height=\"24px\"viewBox=\"0 0 24 24\"\n",
       "     width=\"24px\">\n",
       "    <g>\n",
       "        <path d=\"M19 3H5c-1.1 0-2 .9-2 2v14c0 1.1.9 2 2 2h14c1.1 0 2-.9 2-2V5c0-1.1-.9-2-2-2zM9 17H7v-7h2v7zm4 0h-2V7h2v10zm4 0h-2v-4h2v4z\"/>\n",
       "    </g>\n",
       "</svg>\n",
       "      </button>\n",
       "\n",
       "<style>\n",
       "  .colab-df-quickchart {\n",
       "      --bg-color: #E8F0FE;\n",
       "      --fill-color: #1967D2;\n",
       "      --hover-bg-color: #E2EBFA;\n",
       "      --hover-fill-color: #174EA6;\n",
       "      --disabled-fill-color: #AAA;\n",
       "      --disabled-bg-color: #DDD;\n",
       "  }\n",
       "\n",
       "  [theme=dark] .colab-df-quickchart {\n",
       "      --bg-color: #3B4455;\n",
       "      --fill-color: #D2E3FC;\n",
       "      --hover-bg-color: #434B5C;\n",
       "      --hover-fill-color: #FFFFFF;\n",
       "      --disabled-bg-color: #3B4455;\n",
       "      --disabled-fill-color: #666;\n",
       "  }\n",
       "\n",
       "  .colab-df-quickchart {\n",
       "    background-color: var(--bg-color);\n",
       "    border: none;\n",
       "    border-radius: 50%;\n",
       "    cursor: pointer;\n",
       "    display: none;\n",
       "    fill: var(--fill-color);\n",
       "    height: 32px;\n",
       "    padding: 0;\n",
       "    width: 32px;\n",
       "  }\n",
       "\n",
       "  .colab-df-quickchart:hover {\n",
       "    background-color: var(--hover-bg-color);\n",
       "    box-shadow: 0 1px 2px rgba(60, 64, 67, 0.3), 0 1px 3px 1px rgba(60, 64, 67, 0.15);\n",
       "    fill: var(--button-hover-fill-color);\n",
       "  }\n",
       "\n",
       "  .colab-df-quickchart-complete:disabled,\n",
       "  .colab-df-quickchart-complete:disabled:hover {\n",
       "    background-color: var(--disabled-bg-color);\n",
       "    fill: var(--disabled-fill-color);\n",
       "    box-shadow: none;\n",
       "  }\n",
       "\n",
       "  .colab-df-spinner {\n",
       "    border: 2px solid var(--fill-color);\n",
       "    border-color: transparent;\n",
       "    border-bottom-color: var(--fill-color);\n",
       "    animation:\n",
       "      spin 1s steps(1) infinite;\n",
       "  }\n",
       "\n",
       "  @keyframes spin {\n",
       "    0% {\n",
       "      border-color: transparent;\n",
       "      border-bottom-color: var(--fill-color);\n",
       "      border-left-color: var(--fill-color);\n",
       "    }\n",
       "    20% {\n",
       "      border-color: transparent;\n",
       "      border-left-color: var(--fill-color);\n",
       "      border-top-color: var(--fill-color);\n",
       "    }\n",
       "    30% {\n",
       "      border-color: transparent;\n",
       "      border-left-color: var(--fill-color);\n",
       "      border-top-color: var(--fill-color);\n",
       "      border-right-color: var(--fill-color);\n",
       "    }\n",
       "    40% {\n",
       "      border-color: transparent;\n",
       "      border-right-color: var(--fill-color);\n",
       "      border-top-color: var(--fill-color);\n",
       "    }\n",
       "    60% {\n",
       "      border-color: transparent;\n",
       "      border-right-color: var(--fill-color);\n",
       "    }\n",
       "    80% {\n",
       "      border-color: transparent;\n",
       "      border-right-color: var(--fill-color);\n",
       "      border-bottom-color: var(--fill-color);\n",
       "    }\n",
       "    90% {\n",
       "      border-color: transparent;\n",
       "      border-bottom-color: var(--fill-color);\n",
       "    }\n",
       "  }\n",
       "</style>\n",
       "\n",
       "      <script>\n",
       "        async function quickchart(key) {\n",
       "          const quickchartButtonEl =\n",
       "            document.querySelector('#' + key + ' button');\n",
       "          quickchartButtonEl.disabled = true;  // To prevent multiple clicks.\n",
       "          quickchartButtonEl.classList.add('colab-df-spinner');\n",
       "          try {\n",
       "            const charts = await google.colab.kernel.invokeFunction(\n",
       "                'suggestCharts', [key], {});\n",
       "          } catch (error) {\n",
       "            console.error('Error during call to suggestCharts:', error);\n",
       "          }\n",
       "          quickchartButtonEl.classList.remove('colab-df-spinner');\n",
       "          quickchartButtonEl.classList.add('colab-df-quickchart-complete');\n",
       "        }\n",
       "        (() => {\n",
       "          let quickchartButtonEl =\n",
       "            document.querySelector('#df-8f63cb46-1d93-4d8a-a2ee-3700f572d438 button');\n",
       "          quickchartButtonEl.style.display =\n",
       "            google.colab.kernel.accessAllowed ? 'block' : 'none';\n",
       "        })();\n",
       "      </script>\n",
       "    </div>\n",
       "\n",
       "    </div>\n",
       "  </div>\n"
      ],
      "text/plain": [
       "   TransactionAmt   C1   C2   C3   C4   C5   C6   C7   C8   C9  ...  V335  \\\n",
       "0            68.5  1.0  1.0  0.0  0.0  0.0  1.0  0.0  0.0  1.0  ...   NaN   \n",
       "1            29.0  1.0  1.0  0.0  0.0  0.0  1.0  0.0  0.0  0.0  ...   NaN   \n",
       "2            59.0  1.0  1.0  0.0  0.0  0.0  1.0  0.0  0.0  1.0  ...   NaN   \n",
       "3            50.0  2.0  5.0  0.0  0.0  0.0  4.0  0.0  0.0  1.0  ...   NaN   \n",
       "4            50.0  1.0  1.0  0.0  0.0  0.0  1.0  0.0  1.0  0.0  ...   0.0   \n",
       "\n",
       "   V336  V337  V338  V339  ProductCD_C  ProductCD_H  ProductCD_R  ProductCD_S  \\\n",
       "0   NaN   NaN   NaN   NaN            0            0            0            0   \n",
       "1   NaN   NaN   NaN   NaN            0            0            0            0   \n",
       "2   NaN   NaN   NaN   NaN            0            0            0            0   \n",
       "3   NaN   NaN   NaN   NaN            0            0            0            0   \n",
       "4   0.0   0.0   0.0   0.0            0            1            0            0   \n",
       "\n",
       "   ProductCD_W  \n",
       "0            1  \n",
       "1            1  \n",
       "2            1  \n",
       "3            1  \n",
       "4            0  \n",
       "\n",
       "[5 rows x 383 columns]"
      ]
     },
     "execution_count": 16,
     "metadata": {},
     "output_type": "execute_result"
    }
   ],
   "source": [
    "for col in cat_cols:\n",
    "    if col[0] == 'M':\n",
    "        if col[1] != 4:\n",
    "            features_expanded[col] = features_expanded[col].map({'T': 1, 'F': 0})\n",
    "        else:\n",
    "            features_expanded[col] = features_expanded[col].map({'M0': 0, 'M1': 1, 'M2':2})\n",
    "    else:\n",
    "        features_expanded = pd.get_dummies(features_expanded, columns=[col], dtype=int)\n",
    "\n",
    "features_expanded.head()"
   ]
  },
  {
   "cell_type": "markdown",
   "id": "0e3450a2-a850-44d6-869c-0e0ab40df48a",
   "metadata": {
    "id": "0e3450a2-a850-44d6-869c-0e0ab40df48a",
    "jp-MarkdownHeadingCollapsed": true
   },
   "source": [
    "### 2.2 Preprocessing: scaling numerical features"
   ]
  },
  {
   "cell_type": "code",
   "execution_count": 17,
   "id": "3569d6e9-95ca-4746-9e41-318d893bf198",
   "metadata": {
    "executionInfo": {
     "elapsed": 1365,
     "status": "ok",
     "timestamp": 1753554712272,
     "user": {
      "displayName": "Yang Yang",
      "userId": "04505395149013680450"
     },
     "user_tz": 240
    },
    "id": "3569d6e9-95ca-4746-9e41-318d893bf198"
   },
   "outputs": [],
   "source": [
    "from sklearn.preprocessing import StandardScaler, MinMaxScaler"
   ]
  },
  {
   "cell_type": "code",
   "execution_count": null,
   "id": "34248f5d-dc41-4fed-aeb3-aa5af1998e8f",
   "metadata": {
    "id": "34248f5d-dc41-4fed-aeb3-aa5af1998e8f",
    "scrolled": true
   },
   "outputs": [],
   "source": [
    "scaler = MinMaxScaler()\n",
    "features_normalized=features_expanded.copy()\n",
    "features_normalized[num_cols] = scaler.fit_transform(features_normalized[num_cols])"
   ]
  },
  {
   "cell_type": "code",
   "execution_count": null,
   "id": "2258c997-4a8a-405d-bb9c-0ed77aaf12bc",
   "metadata": {
    "id": "2258c997-4a8a-405d-bb9c-0ed77aaf12bc",
    "outputId": "16e7e30b-ef41-4207-d9dc-ce0ddf86ad8e"
   },
   "outputs": [
    {
     "data": {
      "text/html": [
       "<div>\n",
       "<style scoped>\n",
       "    .dataframe tbody tr th:only-of-type {\n",
       "        vertical-align: middle;\n",
       "    }\n",
       "\n",
       "    .dataframe tbody tr th {\n",
       "        vertical-align: top;\n",
       "    }\n",
       "\n",
       "    .dataframe thead th {\n",
       "        text-align: right;\n",
       "    }\n",
       "</style>\n",
       "<table border=\"1\" class=\"dataframe\">\n",
       "  <thead>\n",
       "    <tr style=\"text-align: right;\">\n",
       "      <th></th>\n",
       "      <th>TransactionID</th>\n",
       "      <th>TransactionDT</th>\n",
       "      <th>TransactionAmt</th>\n",
       "      <th>card1</th>\n",
       "      <th>card2</th>\n",
       "      <th>card3</th>\n",
       "      <th>card5</th>\n",
       "      <th>addr1</th>\n",
       "      <th>addr2</th>\n",
       "      <th>dist1</th>\n",
       "      <th>...</th>\n",
       "      <th>R_emaildomain_web.de</th>\n",
       "      <th>R_emaildomain_windstream.net</th>\n",
       "      <th>R_emaildomain_yahoo.co.jp</th>\n",
       "      <th>R_emaildomain_yahoo.co.uk</th>\n",
       "      <th>R_emaildomain_yahoo.com</th>\n",
       "      <th>R_emaildomain_yahoo.com.mx</th>\n",
       "      <th>R_emaildomain_yahoo.de</th>\n",
       "      <th>R_emaildomain_yahoo.es</th>\n",
       "      <th>R_emaildomain_yahoo.fr</th>\n",
       "      <th>R_emaildomain_ymail.com</th>\n",
       "    </tr>\n",
       "  </thead>\n",
       "  <tbody>\n",
       "    <tr>\n",
       "      <th>0</th>\n",
       "      <td>0.000000</td>\n",
       "      <td>0.000000e+00</td>\n",
       "      <td>0.002137</td>\n",
       "      <td>0.743044</td>\n",
       "      <td>NaN</td>\n",
       "      <td>0.381679</td>\n",
       "      <td>0.306569</td>\n",
       "      <td>0.488636</td>\n",
       "      <td>0.836957</td>\n",
       "      <td>0.001847</td>\n",
       "      <td>...</td>\n",
       "      <td>0</td>\n",
       "      <td>0</td>\n",
       "      <td>0</td>\n",
       "      <td>0</td>\n",
       "      <td>0</td>\n",
       "      <td>0</td>\n",
       "      <td>0</td>\n",
       "      <td>0</td>\n",
       "      <td>0</td>\n",
       "      <td>0</td>\n",
       "    </tr>\n",
       "    <tr>\n",
       "      <th>1</th>\n",
       "      <td>0.000002</td>\n",
       "      <td>6.359409e-08</td>\n",
       "      <td>0.000900</td>\n",
       "      <td>0.100885</td>\n",
       "      <td>0.608</td>\n",
       "      <td>0.381679</td>\n",
       "      <td>0.014599</td>\n",
       "      <td>0.511364</td>\n",
       "      <td>0.836957</td>\n",
       "      <td>NaN</td>\n",
       "      <td>...</td>\n",
       "      <td>0</td>\n",
       "      <td>0</td>\n",
       "      <td>0</td>\n",
       "      <td>0</td>\n",
       "      <td>0</td>\n",
       "      <td>0</td>\n",
       "      <td>0</td>\n",
       "      <td>0</td>\n",
       "      <td>0</td>\n",
       "      <td>0</td>\n",
       "    </tr>\n",
       "    <tr>\n",
       "      <th>2</th>\n",
       "      <td>0.000003</td>\n",
       "      <td>4.387992e-06</td>\n",
       "      <td>0.001840</td>\n",
       "      <td>0.210566</td>\n",
       "      <td>0.780</td>\n",
       "      <td>0.381679</td>\n",
       "      <td>0.481752</td>\n",
       "      <td>0.522727</td>\n",
       "      <td>0.836957</td>\n",
       "      <td>0.027902</td>\n",
       "      <td>...</td>\n",
       "      <td>0</td>\n",
       "      <td>0</td>\n",
       "      <td>0</td>\n",
       "      <td>0</td>\n",
       "      <td>0</td>\n",
       "      <td>0</td>\n",
       "      <td>0</td>\n",
       "      <td>0</td>\n",
       "      <td>0</td>\n",
       "      <td>0</td>\n",
       "    </tr>\n",
       "    <tr>\n",
       "      <th>3</th>\n",
       "      <td>0.000005</td>\n",
       "      <td>6.295815e-06</td>\n",
       "      <td>0.001558</td>\n",
       "      <td>0.984824</td>\n",
       "      <td>0.934</td>\n",
       "      <td>0.381679</td>\n",
       "      <td>0.124088</td>\n",
       "      <td>0.854545</td>\n",
       "      <td>0.836957</td>\n",
       "      <td>NaN</td>\n",
       "      <td>...</td>\n",
       "      <td>0</td>\n",
       "      <td>0</td>\n",
       "      <td>0</td>\n",
       "      <td>0</td>\n",
       "      <td>0</td>\n",
       "      <td>0</td>\n",
       "      <td>0</td>\n",
       "      <td>0</td>\n",
       "      <td>0</td>\n",
       "      <td>0</td>\n",
       "    </tr>\n",
       "    <tr>\n",
       "      <th>4</th>\n",
       "      <td>0.000007</td>\n",
       "      <td>6.740974e-06</td>\n",
       "      <td>0.001558</td>\n",
       "      <td>0.201023</td>\n",
       "      <td>0.828</td>\n",
       "      <td>0.381679</td>\n",
       "      <td>0.014599</td>\n",
       "      <td>0.727273</td>\n",
       "      <td>0.836957</td>\n",
       "      <td>NaN</td>\n",
       "      <td>...</td>\n",
       "      <td>0</td>\n",
       "      <td>0</td>\n",
       "      <td>0</td>\n",
       "      <td>0</td>\n",
       "      <td>0</td>\n",
       "      <td>0</td>\n",
       "      <td>0</td>\n",
       "      <td>0</td>\n",
       "      <td>0</td>\n",
       "      <td>0</td>\n",
       "    </tr>\n",
       "  </tbody>\n",
       "</table>\n",
       "<p>5 rows × 520 columns</p>\n",
       "</div>"
      ],
      "text/plain": [
       "   TransactionID  TransactionDT  TransactionAmt     card1  card2     card3  \\\n",
       "0       0.000000   0.000000e+00        0.002137  0.743044    NaN  0.381679   \n",
       "1       0.000002   6.359409e-08        0.000900  0.100885  0.608  0.381679   \n",
       "2       0.000003   4.387992e-06        0.001840  0.210566  0.780  0.381679   \n",
       "3       0.000005   6.295815e-06        0.001558  0.984824  0.934  0.381679   \n",
       "4       0.000007   6.740974e-06        0.001558  0.201023  0.828  0.381679   \n",
       "\n",
       "      card5     addr1     addr2     dist1  ...  R_emaildomain_web.de  \\\n",
       "0  0.306569  0.488636  0.836957  0.001847  ...                     0   \n",
       "1  0.014599  0.511364  0.836957       NaN  ...                     0   \n",
       "2  0.481752  0.522727  0.836957  0.027902  ...                     0   \n",
       "3  0.124088  0.854545  0.836957       NaN  ...                     0   \n",
       "4  0.014599  0.727273  0.836957       NaN  ...                     0   \n",
       "\n",
       "   R_emaildomain_windstream.net  R_emaildomain_yahoo.co.jp  \\\n",
       "0                             0                          0   \n",
       "1                             0                          0   \n",
       "2                             0                          0   \n",
       "3                             0                          0   \n",
       "4                             0                          0   \n",
       "\n",
       "   R_emaildomain_yahoo.co.uk  R_emaildomain_yahoo.com  \\\n",
       "0                          0                        0   \n",
       "1                          0                        0   \n",
       "2                          0                        0   \n",
       "3                          0                        0   \n",
       "4                          0                        0   \n",
       "\n",
       "   R_emaildomain_yahoo.com.mx  R_emaildomain_yahoo.de  R_emaildomain_yahoo.es  \\\n",
       "0                           0                       0                       0   \n",
       "1                           0                       0                       0   \n",
       "2                           0                       0                       0   \n",
       "3                           0                       0                       0   \n",
       "4                           0                       0                       0   \n",
       "\n",
       "   R_emaildomain_yahoo.fr  R_emaildomain_ymail.com  \n",
       "0                       0                        0  \n",
       "1                       0                        0  \n",
       "2                       0                        0  \n",
       "3                       0                        0  \n",
       "4                       0                        0  \n",
       "\n",
       "[5 rows x 520 columns]"
      ]
     },
     "execution_count": 11,
     "metadata": {},
     "output_type": "execute_result"
    }
   ],
   "source": [
    "features_normalized.head()"
   ]
  },
  {
   "cell_type": "code",
   "execution_count": null,
   "id": "7b095f06-3eb2-45ba-801c-22f002a8478b",
   "metadata": {
    "id": "7b095f06-3eb2-45ba-801c-22f002a8478b",
    "outputId": "3b5fad4e-99fe-46f6-a0ba-131a2f6a9a00"
   },
   "outputs": [
    {
     "ename": "AttributeError",
     "evalue": "module 'torch' has no attribute 'to_numpy'",
     "output_type": "error",
     "traceback": [
      "\u001b[1;31m---------------------------------------------------------------------------\u001b[0m",
      "\u001b[1;31mAttributeError\u001b[0m                            Traceback (most recent call last)",
      "Cell \u001b[1;32mIn[12], line 1\u001b[0m\n\u001b[1;32m----> 1\u001b[0m features_normalized \u001b[38;5;241m=\u001b[39m \u001b[43mtorch\u001b[49m\u001b[38;5;241;43m.\u001b[39;49m\u001b[43mto_numpy\u001b[49m(features_normalized\u001b[38;5;241m.\u001b[39mto_numpy())\u001b[38;5;241m.\u001b[39mfloat()\n\u001b[0;32m      2\u001b[0m torch\u001b[38;5;241m.\u001b[39msave(features_normalized, \u001b[38;5;124m'\u001b[39m\u001b[38;5;124mfeatures_normalized.pt\u001b[39m\u001b[38;5;124m'\u001b[39m)\n",
      "File \u001b[1;32m~\\anaconda3\\envs\\ds_env\\lib\\site-packages\\torch\\__init__.py:2005\u001b[0m, in \u001b[0;36m__getattr__\u001b[1;34m(name)\u001b[0m\n\u001b[0;32m   2002\u001b[0m     \u001b[38;5;28;01mimport\u001b[39;00m\u001b[38;5;250m \u001b[39m\u001b[38;5;21;01mimportlib\u001b[39;00m\n\u001b[0;32m   2003\u001b[0m     \u001b[38;5;28;01mreturn\u001b[39;00m importlib\u001b[38;5;241m.\u001b[39mimport_module(\u001b[38;5;124mf\u001b[39m\u001b[38;5;124m\"\u001b[39m\u001b[38;5;124m.\u001b[39m\u001b[38;5;132;01m{\u001b[39;00mname\u001b[38;5;132;01m}\u001b[39;00m\u001b[38;5;124m\"\u001b[39m, \u001b[38;5;18m__name__\u001b[39m)\n\u001b[1;32m-> 2005\u001b[0m \u001b[38;5;28;01mraise\u001b[39;00m \u001b[38;5;167;01mAttributeError\u001b[39;00m(\u001b[38;5;124mf\u001b[39m\u001b[38;5;124m\"\u001b[39m\u001b[38;5;124mmodule \u001b[39m\u001b[38;5;124m'\u001b[39m\u001b[38;5;132;01m{\u001b[39;00m\u001b[38;5;18m__name__\u001b[39m\u001b[38;5;132;01m}\u001b[39;00m\u001b[38;5;124m'\u001b[39m\u001b[38;5;124m has no attribute \u001b[39m\u001b[38;5;124m'\u001b[39m\u001b[38;5;132;01m{\u001b[39;00mname\u001b[38;5;132;01m}\u001b[39;00m\u001b[38;5;124m'\u001b[39m\u001b[38;5;124m\"\u001b[39m)\n",
      "\u001b[1;31mAttributeError\u001b[0m: module 'torch' has no attribute 'to_numpy'"
     ]
    }
   ],
   "source": [
    "features_normalized = torch.to_numpy(features_normalized.to_numpy()).float()\n",
    "torch.save(features_normalized, 'features_normalized.pt')"
   ]
  },
  {
   "cell_type": "markdown",
   "id": "fa457312-7a10-4545-a351-3c5482a5ccb1",
   "metadata": {
    "id": "fa457312-7a10-4545-a351-3c5482a5ccb1"
   },
   "source": [
    "## 3. Autoencoder"
   ]
  },
  {
   "cell_type": "code",
   "execution_count": null,
   "id": "tpJZ-PpxDuqP",
   "metadata": {
    "id": "tpJZ-PpxDuqP"
   },
   "outputs": [],
   "source": [
    "import torch\n",
    "import torch.nn as nn\n",
    "import torch.optim as optim\n",
    "import numpy as np"
   ]
  },
  {
   "cell_type": "code",
   "execution_count": null,
   "id": "IfZrsIG7E-UA",
   "metadata": {
    "colab": {
     "base_uri": "https://localhost:8080/"
    },
    "executionInfo": {
     "elapsed": 7,
     "status": "ok",
     "timestamp": 1752801470006,
     "user": {
      "displayName": "Yang Yang",
      "userId": "04505395149013680450"
     },
     "user_tz": 240
    },
    "id": "IfZrsIG7E-UA",
    "outputId": "428015ed-663d-4c08-f6f1-8ce4a9d07b5e"
   },
   "outputs": [
    {
     "name": "stdout",
     "output_type": "stream",
     "text": [
      "cuda\n"
     ]
    }
   ],
   "source": [
    "device = torch.device(\"cuda\" if torch.cuda.is_available() else \"cpu\")\n",
    "print(device)"
   ]
  },
  {
   "cell_type": "code",
   "execution_count": null,
   "id": "TIjYhsu-DTmu",
   "metadata": {
    "id": "TIjYhsu-DTmu"
   },
   "outputs": [],
   "source": [
    "labels = torch.load('labels.pt')\n",
    "features_normalized = torch.load('features_normalized.pt')"
   ]
  },
  {
   "cell_type": "code",
   "execution_count": null,
   "id": "5bfLWzZUDle1",
   "metadata": {
    "colab": {
     "base_uri": "https://localhost:8080/"
    },
    "executionInfo": {
     "elapsed": 12,
     "status": "ok",
     "timestamp": 1752616055991,
     "user": {
      "displayName": "Yang Yang",
      "userId": "04505395149013680450"
     },
     "user_tz": 240
    },
    "id": "5bfLWzZUDle1",
    "outputId": "0bc8c82a-cdf2-41a0-8b0c-d96ae71643e4"
   },
   "outputs": [
    {
     "name": "stdout",
     "output_type": "stream",
     "text": [
      "torch.Size([590540])\n",
      "torch.Size([590540, 520])\n"
     ]
    }
   ],
   "source": [
    "#print(labels.shape)\n",
    "#print(features_normalized.shape)"
   ]
  },
  {
   "cell_type": "code",
   "execution_count": null,
   "id": "bYjHPuIDE4lj",
   "metadata": {
    "id": "bYjHPuIDE4lj"
   },
   "outputs": [],
   "source": [
    "# move to cuda\n",
    "'''\n",
    "features_normalized = features_normalized.to(device)\n",
    "labels = labels.to(device)\n",
    "features_normalized_cpu = features_normalized.cpu()\n",
    "labels_cpu = labels.cpu()\n",
    "'''"
   ]
  },
  {
   "cell_type": "markdown",
   "id": "HaeJXGK1QkUz",
   "metadata": {
    "id": "HaeJXGK1QkUz"
   },
   "source": [
    "### 3.1 Train Test Split"
   ]
  },
  {
   "cell_type": "code",
   "execution_count": null,
   "id": "oAzfYGTBQj_U",
   "metadata": {
    "id": "oAzfYGTBQj_U"
   },
   "outputs": [],
   "source": [
    "from sklearn.model_selection import train_test_split"
   ]
  },
  {
   "cell_type": "code",
   "execution_count": null,
   "id": "C83zri3ZQjGw",
   "metadata": {
    "id": "C83zri3ZQjGw"
   },
   "outputs": [],
   "source": [
    "X_train, X_test, y_train, y_test = train_test_split(features_normalized, labels, test_size=0.2, random_state=42,\n",
    "                                                    stratify=labels)\n",
    "X_train, X_val, y_train, y_val = train_test_split(X_train, y_train, test_size=0.2, random_state=42, stratify=y_train)"
   ]
  },
  {
   "cell_type": "code",
   "execution_count": null,
   "id": "S7gysq7Jdb-x",
   "metadata": {
    "id": "S7gysq7Jdb-x"
   },
   "outputs": [],
   "source": [
    "mask_val = ~torch.isnan(X_val) # validation set doesn't change so may as well do mask once and for all\n",
    "X_val_filled = torch.nan_to_num(X_val, nan=0.0)\n",
    "X_val_filled = X_val_filled.float().to(device) # val data doesn't go through dataloader so it needs to go on gpu separately\n",
    "mask_val = mask_val.to(device) # Move mask to the correct device as well"
   ]
  },
  {
   "cell_type": "code",
   "execution_count": null,
   "id": "c59ddadd-b8e7-461e-b2f6-11fbf3fa0721",
   "metadata": {
    "id": "c59ddadd-b8e7-461e-b2f6-11fbf3fa0721"
   },
   "outputs": [],
   "source": [
    "# Convert to torch tensors\n",
    "mask = ~torch.isnan(X_train)  # True where data is present\n",
    "X_filled = torch.nan_to_num(X_train, nan=0.0)  # Replace NaNs with 0\n",
    "X_filled = X_filled.float() # convert to all double (twice precision as float)"
   ]
  },
  {
   "cell_type": "markdown",
   "id": "Ieuts8fTvp5H",
   "metadata": {
    "id": "Ieuts8fTvp5H"
   },
   "source": [
    "### 3.2 Autoencoder and training"
   ]
  },
  {
   "cell_type": "code",
   "execution_count": null,
   "id": "216efe5b-7e88-4747-ba9c-e9c60565de14",
   "metadata": {
    "id": "216efe5b-7e88-4747-ba9c-e9c60565de14"
   },
   "outputs": [],
   "source": [
    "# Define the autoencoder\n",
    "class Autoencoder(nn.Module): # here the input nn.Module specifies the super class that Autoencoder is in\n",
    "    # we are making an object class by modifying an existing class nn.Module\n",
    "    def __init__(self, input_dim, latent_dim=64):\n",
    "        super().__init__() # calls initialization of nn.Module object\n",
    "        self.encoder = nn.Sequential(\n",
    "            nn.Linear(input_dim, 256),\n",
    "            nn.ReLU(), # this is also a layer but has no weights\n",
    "            nn.Linear(256, 128),\n",
    "            nn.ReLU(),\n",
    "            nn.Linear(128, latent_dim),\n",
    "        )\n",
    "        self.decoder = nn.Sequential(\n",
    "            nn.Linear(latent_dim, 128),\n",
    "            nn.ReLU(),\n",
    "            nn.Linear(128, 256),\n",
    "            nn.ReLU(),\n",
    "            nn.Linear(256, input_dim),\n",
    "        )\n",
    "\n",
    "    def forward(self, x):\n",
    "        latent = self.encoder(x)\n",
    "        return self.decoder(latent)"
   ]
  },
  {
   "cell_type": "code",
   "execution_count": null,
   "id": "959c9f3b-04cd-4681-aef2-8370010c8ad0",
   "metadata": {
    "id": "959c9f3b-04cd-4681-aef2-8370010c8ad0"
   },
   "outputs": [],
   "source": [
    "# Initialize model, optimizer, and loss\n",
    "model = Autoencoder(input_dim=X_filled.shape[1]) # input size has to be number of features\n",
    "model.to(device)\n",
    "optimizer = optim.Adam(model.parameters(), lr=0.001)\n",
    "criterion = nn.MSELoss(reduction='none')  # So we can apply a mask\n"
   ]
  },
  {
   "cell_type": "code",
   "execution_count": null,
   "id": "c8a8f567-4ce7-4f87-a320-589857200876",
   "metadata": {
    "colab": {
     "base_uri": "https://localhost:8080/"
    },
    "executionInfo": {
     "elapsed": 129416,
     "status": "ok",
     "timestamp": 1752812039482,
     "user": {
      "displayName": "Yang Yang",
      "userId": "04505395149013680450"
     },
     "user_tz": 240
    },
    "id": "c8a8f567-4ce7-4f87-a320-589857200876",
    "outputId": "13ffc05a-dca2-4c38-d042-d29b0d643dd6"
   },
   "outputs": [
    {
     "name": "stdout",
     "output_type": "stream",
     "text": [
      "Epoch 1, Loss: 0.0065, Validation Loss: 0.0022\n",
      "Epoch 2, Loss: 0.0016, Validation Loss: 0.0012\n",
      "Epoch 3, Loss: 0.0009, Validation Loss: 0.0008\n",
      "Epoch 4, Loss: 0.0007, Validation Loss: 0.0007\n",
      "Epoch 5, Loss: 0.0006, Validation Loss: 0.0006\n",
      "Epoch 6, Loss: 0.0005, Validation Loss: 0.0006\n",
      "Epoch 7, Loss: 0.0005, Validation Loss: 0.0005\n",
      "Epoch 8, Loss: 0.0004, Validation Loss: 0.0005\n",
      "Epoch 9, Loss: 0.0004, Validation Loss: 0.0004\n",
      "Epoch 10, Loss: 0.0004, Validation Loss: 0.0004\n",
      "Epoch 11, Loss: 0.0004, Validation Loss: 0.0004\n",
      "Epoch 12, Loss: 0.0003, Validation Loss: 0.0003\n",
      "Epoch 13, Loss: 0.0003, Validation Loss: 0.0003\n",
      "Epoch 14, Loss: 0.0003, Validation Loss: 0.0003\n",
      "Epoch 15, Loss: 0.0003, Validation Loss: 0.0003\n",
      "Epoch 16, Loss: 0.0003, Validation Loss: 0.0003\n",
      "Epoch 17, Loss: 0.0003, Validation Loss: 0.0003\n",
      "Epoch 18, Loss: 0.0003, Validation Loss: 0.0003\n",
      "Epoch 19, Loss: 0.0002, Validation Loss: 0.0003\n",
      "Epoch 20, Loss: 0.0002, Validation Loss: 0.0003\n",
      "Epoch 21, Loss: 0.0002, Validation Loss: 0.0002\n",
      "Epoch 22, Loss: 0.0002, Validation Loss: 0.0002\n",
      "Epoch 23, Loss: 0.0002, Validation Loss: 0.0002\n",
      "Epoch 24, Loss: 0.0002, Validation Loss: 0.0002\n",
      "Epoch 25, Loss: 0.0002, Validation Loss: 0.0002\n",
      "Epoch 26, Loss: 0.0002, Validation Loss: 0.0002\n",
      "Epoch 27, Loss: 0.0002, Validation Loss: 0.0002\n",
      "Early stopping at epoch 27, best epoch 27\n"
     ]
    }
   ],
   "source": [
    "from torch.utils.data import TensorDataset, DataLoader\n",
    "\n",
    "# Create a TensorDataset and DataLoader\n",
    "dataset = TensorDataset(X_filled, mask)\n",
    "batch_size = 1024 # You can adjust this batch size based on your GPU memory\n",
    "dataloader = DataLoader(dataset, batch_size=batch_size, shuffle=True)\n",
    "\n",
    "# early-stopping things\n",
    "min_improvement = 1e-5\n",
    "patience = 5 # 5 do 5 more if not improved\n",
    "epochs_without_improvement = 0\n",
    "lowest_epoch_val_loss = float('inf') # track min loss to get best epoch\n",
    "\n",
    "# Training loop\n",
    "epochs = 70\n",
    "epoch_loss = []\n",
    "epoch_loss_val = []\n",
    "for epoch in range(epochs):\n",
    "    model.train()\n",
    "    total_loss = 0\n",
    "    for batch_X, batch_mask in dataloader:\n",
    "        batch_X, batch_mask = batch_X.to(device), batch_mask.to(device)\n",
    "\n",
    "        optimizer.zero_grad()\n",
    "\n",
    "        output = model(batch_X)\n",
    "        loss_matrix = criterion(output, batch_X)  # [batch, features]\n",
    "        masked_loss = loss_matrix * batch_mask.float()\n",
    "        loss = masked_loss.sum() / batch_mask.sum()  # average over observed values only\n",
    "\n",
    "        loss.backward()\n",
    "        optimizer.step()\n",
    "        total_loss += loss.item() # get value\n",
    "\n",
    "    output = model(X_val_filled)\n",
    "    loss_matrix = criterion(output, X_val_filled)  # [batch, features]\n",
    "    masked_loss = loss_matrix * mask_val\n",
    "    loss_val = masked_loss.sum()/mask_val.sum()\n",
    "    epoch_loss_val.append(loss_val.item())\n",
    "    epoch_loss.append(total_loss/len(dataloader))\n",
    "    print(f\"Epoch {epoch+1}, Loss: {total_loss/len(dataloader):.4f}, Validation Loss: {loss_val.item():.4f}\")\n",
    "    torch.save(model.state_dict(), f'autoencoder_epoch_{epoch+1}.pth')\n",
    "    #print(f\"Saved model state for epoch {epoch+1}\")\n",
    "\n",
    "    if lowest_epoch_val_loss - loss_val.item() > min_improvement: # improvement in val loss\n",
    "        lowest_epoch_val_loss = loss_val.item()\n",
    "        epochs_without_improvement = 0\n",
    "    else:\n",
    "        epochs_without_improvement += 1\n",
    "    if epochs_without_improvement >= patience:\n",
    "        best_epoch = np.argmin(np.array(epoch_loss_val))\n",
    "        print(f\"Early stopping at epoch {epoch+1}, best epoch {best_epoch + 1}\")\n",
    "        break\n"
   ]
  },
  {
   "cell_type": "code",
   "execution_count": null,
   "id": "2ab9e54a-05c6-4089-bcfc-3c92b75c5bac",
   "metadata": {
    "colab": {
     "base_uri": "https://localhost:8080/",
     "height": 449
    },
    "executionInfo": {
     "elapsed": 93,
     "status": "ok",
     "timestamp": 1752812054624,
     "user": {
      "displayName": "Yang Yang",
      "userId": "04505395149013680450"
     },
     "user_tz": 240
    },
    "id": "2ab9e54a-05c6-4089-bcfc-3c92b75c5bac",
    "outputId": "677f3b91-cc00-4fb4-950d-4d1a0e04a797"
   },
   "outputs": [
    {
     "data": {
      "image/png": "[encoded data removed]",
      "text/plain": [
       "<Figure size 640x480 with 1 Axes>"
      ]
     },
     "metadata": {},
     "output_type": "display_data"
    }
   ],
   "source": [
    "plt.plot(np.array(epoch_loss))\n",
    "plt.plot(np.array(epoch_loss_val))\n",
    "plt.legend(['train', 'val'])\n",
    "plt.xlabel('epoch')\n",
    "plt.ylabel('loss')\n",
    "plt.show()"
   ]
  },
  {
   "cell_type": "markdown",
   "id": "MelWBYhdviS8",
   "metadata": {
    "id": "MelWBYhdviS8"
   },
   "source": [
    "### 3.3 Performance on test set"
   ]
  },
  {
   "cell_type": "code",
   "execution_count": null,
   "id": "Wd2ugR3Pwuep",
   "metadata": {
    "colab": {
     "base_uri": "https://localhost:8080/"
    },
    "executionInfo": {
     "elapsed": 28,
     "status": "ok",
     "timestamp": 1752812729580,
     "user": {
      "displayName": "Yang Yang",
      "userId": "04505395149013680450"
     },
     "user_tz": 240
    },
    "id": "Wd2ugR3Pwuep",
    "outputId": "6d6e48e5-7321-416b-e1a5-ef8e766dfa7a"
   },
   "outputs": [
    {
     "data": {
      "text/plain": [
       "Autoencoder(\n",
       "  (encoder): Sequential(\n",
       "    (0): Linear(in_features=520, out_features=256, bias=True)\n",
       "    (1): ReLU()\n",
       "    (2): Linear(in_features=256, out_features=128, bias=True)\n",
       "    (3): ReLU()\n",
       "    (4): Linear(in_features=128, out_features=64, bias=True)\n",
       "  )\n",
       "  (decoder): Sequential(\n",
       "    (0): Linear(in_features=64, out_features=128, bias=True)\n",
       "    (1): ReLU()\n",
       "    (2): Linear(in_features=128, out_features=256, bias=True)\n",
       "    (3): ReLU()\n",
       "    (4): Linear(in_features=256, out_features=520, bias=True)\n",
       "  )\n",
       ")"
      ]
     },
     "execution_count": 43,
     "metadata": {},
     "output_type": "execute_result"
    }
   ],
   "source": [
    "loaded_model = Autoencoder(input_dim=X_filled.shape[1])\n",
    "\n",
    "# Load the state dictionary\n",
    "loaded_model.load_state_dict(torch.load(f\"autoencoder_epoch_{best_epoch + 1}.pth\"))\n",
    "\n",
    "# Move the loaded model to the desired device (CPU or GPU)\n",
    "loaded_model.to(device)\n",
    "\n",
    "# Now you can use the loaded_model for inference or further training\n",
    "# For example, set it to evaluation mode if you are doing inference\n",
    "loaded_model.eval()"
   ]
  },
  {
   "cell_type": "code",
   "execution_count": null,
   "id": "39c876d2-07ea-4460-ba00-71b646cbbd2a",
   "metadata": {
    "id": "39c876d2-07ea-4460-ba00-71b646cbbd2a"
   },
   "outputs": [],
   "source": [
    "mask_test = !~torch.isnan(X_test).float()\n",
    "X_test_filled = torch.nan_to_num(X_test, nan = 0.0).float()\n",
    "\n",
    "output_test = loaded_model(X_test_filled.to(device))\n",
    "error = criterion(output_test.cpu(), X_test_filled)\n",
    "point_error = torch.mean(error, dim=1)"
   ]
  },
  {
   "cell_type": "code",
   "execution_count": null,
   "id": "a63abf5f-f37e-4057-ab22-2ded1bc9ede1",
   "metadata": {
    "colab": {
     "base_uri": "https://localhost:8080/",
     "height": 449
    },
    "executionInfo": {
     "elapsed": 611,
     "status": "ok",
     "timestamp": 1752813422953,
     "user": {
      "displayName": "Yang Yang",
      "userId": "04505395149013680450"
     },
     "user_tz": 240
    },
    "id": "a63abf5f-f37e-4057-ab22-2ded1bc9ede1",
    "outputId": "71ec5ba9-1782-40a3-cc01-0ebb7e4c8985"
   },
   "outputs": [
    {
     "data": {
      "image/png": "[encoded data removed]",
      "text/plain": [
       "<Figure size 640x480 with 1 Axes>"
      ]
     },
     "metadata": {},
     "output_type": "display_data"
    }
   ],
   "source": [
    "plt.plot(point_error.detach().numpy())\n",
    "plt.xlabel('point')\n",
    "plt.ylabel('error')\n",
    "plt.show()"
   ]
  },
  {
   "cell_type": "code",
   "execution_count": null,
   "id": "o9VeZd5g2cj8",
   "metadata": {
    "colab": {
     "base_uri": "https://localhost:8080/",
     "height": 122
    },
    "executionInfo": {
     "elapsed": 17,
     "status": "ok",
     "timestamp": 1752814146491,
     "user": {
      "displayName": "Yang Yang",
      "userId": "04505395149013680450"
     },
     "user_tz": 240
    },
    "id": "o9VeZd5g2cj8",
    "outputId": "c720d6a5-2fad-4af7-d15b-2ae8828a6244"
   },
   "outputs": [
    {
     "data": {
      "application/vnd.google.colaboratory.intrinsic+json": {
       "type": "string"
      },
      "text/plain": [
       "'\\n# Make sure they are on CPU and convert to numpy arrays if necessary for sklearn\\ny_true_np = y_test.cpu().numpy() if isinstance(y_test, torch.Tensor) else y_test\\ny_pred_np = pred_fraud.cpu().numpy() if isinstance(pred_fraud, torch.Tensor) else pred_fraud\\n\\n# Calculate the confusion matrix\\ncm = confusion_matrix(y_true_np, y_pred_np)\\n\\nprint(\"Confusion Matrix:\")\\nprint(cm)\\n\\n# The confusion matrix is typically structured as:\\n# [[True Negatives (TN), False Positives (FP)]\\n#  [False Negatives (FN), True Positives (TP)]]\\n\\n# You can extract these values:\\ntn, fp, fn, tp = cm.ravel()\\n\\nprint(f\"\\nTrue Negatives (TN): {tn}\")\\nprint(f\"False Positives (FP): {fp}\")\\nprint(f\"False Negatives (FN): {fn}\")\\nprint(f\"True Positives (TP): {tp}\")'"
      ]
     },
     "execution_count": 67,
     "metadata": {},
     "output_type": "execute_result"
    }
   ],
   "source": [
    "from sklearn.metrics import confusion_matrix, f1_score, accuracy_score\n",
    "\n",
    "'''\n",
    "# Make sure they are on CPU and convert to numpy arrays if necessary for sklearn\n",
    "y_true_np = y_test.cpu().numpy() if isinstance(y_test, torch.Tensor) else y_test\n",
    "y_pred_np = pred_fraud.cpu().numpy() if isinstance(pred_fraud, torch.Tensor) else pred_fraud\n",
    "\n",
    "# Calculate the confusion matrix\n",
    "cm = confusion_matrix(y_true_np, y_pred_np)\n",
    "\n",
    "print(\"Confusion Matrix:\")\n",
    "print(cm)\n",
    "\n",
    "# The confusion matrix is typically structured as:\n",
    "# [[True Negatives (TN), False Positives (FP)]\n",
    "#  [False Negatives (FN), True Positives (TP)]]\n",
    "\n",
    "# You can extract these values:\n",
    "tn, fp, fn, tp = cm.ravel()\n",
    "\n",
    "print(f\"\\nTrue Negatives (TN): {tn}\")\n",
    "print(f\"False Positives (FP): {fp}\")\n",
    "print(f\"False Negatives (FN): {fn}\")\n",
    "print(f\"True Positives (TP): {tp}\")'''"
   ]
  },
  {
   "cell_type": "code",
   "execution_count": null,
   "id": "RsnYpm1z1N1R",
   "metadata": {
    "colab": {
     "base_uri": "https://localhost:8080/"
    },
    "executionInfo": {
     "elapsed": 3845,
     "status": "ok",
     "timestamp": 1752814271060,
     "user": {
      "displayName": "Yang Yang",
      "userId": "04505395149013680450"
     },
     "user_tz": 240
    },
    "id": "RsnYpm1z1N1R",
    "outputId": "0e49746a-854a-4aae-f58f-a55f8bf60628"
   },
   "outputs": [
    {
     "name": "stdout",
     "output_type": "stream",
     "text": [
      "threshold: 0.05\n",
      "[[105752   8223]\n",
      " [  3960    173]]\n",
      "f1: 0.02761593103998723\n",
      "threshold: 0.06\n",
      "[[110716   3259]\n",
      " [  4059     74]]\n",
      "f1: 0.01982319849986606\n",
      "threshold: 0.07\n",
      "[[112395   1580]\n",
      " [  4103     30]]\n",
      "f1: 0.010447501305937664\n",
      "threshold: 0.08\n",
      "[[113212    763]\n",
      " [  4109     24]]\n",
      "f1: 0.00975609756097561\n",
      "threshold: 0.09\n",
      "[[113587    388]\n",
      " [  4120     13]]\n",
      "f1: 0.005734450816056462\n",
      "threshold: 0.10\n",
      "[[113773    202]\n",
      " [  4125      8]]\n",
      "f1: 0.0036840893391664746\n",
      "threshold: 0.11\n",
      "[[113866    109]\n",
      " [  4129      4]]\n",
      "f1: 0.0018841262364578427\n",
      "threshold: 0.12\n",
      "[[113904     71]\n",
      " [  4131      2]]\n",
      "f1: 0.0009510223490252021\n",
      "threshold: 0.13\n",
      "[[113922     53]\n",
      " [  4131      2]]\n",
      "f1: 0.0009551098376313276\n",
      "threshold: 0.14\n",
      "[[113932     43]\n",
      " [  4132      1]]\n",
      "f1: 0.00047881254488867607\n",
      "threshold: 0.15\n",
      "[[113940     35]\n",
      " [  4132      1]]\n",
      "f1: 0.0004797313504437515\n",
      "threshold: 0.16\n",
      "[[113945     30]\n",
      " [  4133      0]]\n",
      "f1: 0.0\n",
      "threshold: 0.17\n",
      "[[113952     23]\n",
      " [  4133      0]]\n",
      "f1: 0.0\n",
      "threshold: 0.18\n",
      "[[113958     17]\n",
      " [  4133      0]]\n",
      "f1: 0.0\n",
      "threshold: 0.19\n",
      "[[113963     12]\n",
      " [  4133      0]]\n",
      "f1: 0.0\n",
      "threshold: 0.20\n",
      "[[113965     10]\n",
      " [  4133      0]]\n",
      "f1: 0.0\n"
     ]
    }
   ],
   "source": [
    "for threshold in np.arange(0.05, 0.2, 0.01):\n",
    "    pred_fraud = torch.where(point_error > threshold, 1, 0) # if > threshold, mark as 1, else mark as 0\n",
    "    print(f\"threshold: {threshold:.2f}\")\n",
    "    print(confusion_matrix(y_test.cpu().numpy(), pred_fraud.cpu().numpy()))\n",
    "    print(f\"f1: {f1_score(y_test.cpu().numpy(), pred_fraud.cpu().numpy())}\")\n"
   ]
  },
  {
   "cell_type": "code",
   "execution_count": null,
   "id": "0ir4TKX12bCn",
   "metadata": {
    "id": "0ir4TKX12bCn"
   },
   "outputs": [],
   "source": []
  },
  {
   "cell_type": "code",
   "execution_count": null,
   "id": "o-kmJK4Z2aCp",
   "metadata": {
    "id": "o-kmJK4Z2aCp"
   },
   "outputs": [],
   "source": []
  },
  {
   "cell_type": "markdown",
   "id": "GRoprm-2NJlQ",
   "metadata": {
    "id": "GRoprm-2NJlQ"
   },
   "source": [
    "If need to clear up cached memory"
   ]
  },
  {
   "cell_type": "code",
   "execution_count": null,
   "id": "0f1a04dd",
   "metadata": {
    "colab": {
     "base_uri": "https://localhost:8080/"
    },
    "executionInfo": {
     "elapsed": 46,
     "status": "ok",
     "timestamp": 1752813868332,
     "user": {
      "displayName": "Yang Yang",
      "userId": "04505395149013680450"
     },
     "user_tz": 240
    },
    "id": "0f1a04dd",
    "outputId": "6d9990df-d9e8-4456-f768-e77584ca3590"
   },
   "outputs": [
    {
     "name": "stdout",
     "output_type": "stream",
     "text": [
      "GPU memory freed.\n"
     ]
    }
   ],
   "source": [
    "import gc\n",
    "import torch\n",
    "\n",
    "# Example: assuming you have a large tensor 'large_tensor' on the GPU\n",
    "# del large_tensor\n",
    "\n",
    "# Run Python's garbage collector\n",
    "gc.collect()\n",
    "\n",
    "# Empty the PyTorch CUDA cache\n",
    "torch.cuda.empty_cache()\n",
    "\n",
    "print(\"GPU memory freed.\")"
   ]
  },
  {
   "cell_type": "code",
   "execution_count": null,
   "id": "aiMFxGri2Ywo",
   "metadata": {
    "id": "aiMFxGri2Ywo"
   },
   "outputs": [],
   "source": []
  },
  {
   "cell_type": "markdown",
   "id": "d74d2907",
   "metadata": {
    "id": "d74d2907"
   },
   "source": [
    "To load a saved model state, you can do the following:"
   ]
  }
 ],
 "metadata": {
  "accelerator": "GPU",
  "colab": {
   "collapsed_sections": [
    "8a564342-2bc2-4d04-8557-36ec627b78f3"
   ],
   "gpuType": "T4",
   "provenance": []
  },
  "kernelspec": {
   "display_name": "Python 3 (ipykernel)",
   "language": "python",
   "name": "python3"
  },
  "language_info": {
   "codemirror_mode": {
    "name": "ipython",
    "version": 3
   },
   "file_extension": ".py",
   "mimetype": "text/x-python",
   "name": "python",
   "nbconvert_exporter": "python",
   "pygments_lexer": "ipython3",
   "version": "3.9.21"
  }
 },
 "nbformat": 4,
 "nbformat_minor": 5
}
