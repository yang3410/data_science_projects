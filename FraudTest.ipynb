{
 "cells": [
  {
   "cell_type": "markdown",
   "id": "683ccb6a-9277-4fdf-8c21-17880b216a14",
   "metadata": {},
   "source": [
    "# Fraud Test data \n",
    "\n",
    "Use only logistic regression.\n",
    "Data from https://www.kaggle.com/datasets/kartik2112/fraud-detection"
   ]
  },
  {
   "cell_type": "markdown",
   "id": "9585ef16-6536-41e8-a15c-9eb532bfa13c",
   "metadata": {
    "jp-MarkdownHeadingCollapsed": true
   },
   "source": [
    "## 1. Load data "
   ]
  },
  {
   "cell_type": "code",
   "execution_count": 1,
   "id": "20a16e8c-190f-4fab-be8c-cb9832121d19",
   "metadata": {},
   "outputs": [],
   "source": [
    "import torch\n",
    "import pandas as pd\n",
    "import numpy as np\n",
    "import math\n",
    "import matplotlib.pyplot as plt"
   ]
  },
  {
   "cell_type": "code",
   "execution_count": null,
   "id": "c2584b82-dcba-47e2-aaf7-179fd3f085bb",
   "metadata": {},
   "outputs": [],
   "source": [
    "'''\n",
    "data = pd.read_csv('ieee-fraud-detection/train_transaction.csv')\n",
    "data.shape # (590540, 394)\n",
    "data.to_pickle('ieee_pickled.pkl')\n",
    "'''"
   ]
  },
  {
   "cell_type": "code",
   "execution_count": 2,
   "id": "535d93ee-0a66-4c47-9444-ff2b5b565d24",
   "metadata": {},
   "outputs": [
    {
     "data": {
      "text/plain": [
       "(590540, 394)"
      ]
     },
     "execution_count": 2,
     "metadata": {},
     "output_type": "execute_result"
    }
   ],
   "source": [
    "data = pd.read_pickle('ieee_pickled.pkl')\n",
    "data.shape # size (590540, 394), second one is label"
   ]
  },
  {
   "cell_type": "code",
   "execution_count": 3,
   "id": "612af58a-8098-487a-9317-431d730ff0a1",
   "metadata": {},
   "outputs": [
    {
     "name": "stdout",
     "output_type": "stream",
     "text": [
      "20663\n",
      "percent positive =  0.03499000914417313\n"
     ]
    }
   ],
   "source": [
    "labels = data.iloc[:, 1]\n",
    "n_positive = sum(labels)\n",
    "print(n_positive)\n",
    "print('percent positive = ', n_positive/len(labels))"
   ]
  },
  {
   "cell_type": "markdown",
   "id": "d3816acb-7e39-47b2-b375-406cac8c5056",
   "metadata": {
    "jp-MarkdownHeadingCollapsed": true
   },
   "source": [
    "### 1.1 (optional) About missing values"
   ]
  },
  {
   "cell_type": "code",
   "execution_count": null,
   "id": "d3d4e9a9-5653-443f-8670-58c8d3b1e42f",
   "metadata": {},
   "outputs": [],
   "source": [
    "nan_count = data.isna().sum()\n",
    "plt.plot(nan_count)\n",
    "plt.yscale('log')\n",
    "plt.ylabel('number of missing values'), plt.xlabel('features')\n",
    "plt.show()"
   ]
  },
  {
   "cell_type": "code",
   "execution_count": null,
   "id": "873757b9-4dca-4819-b952-f61d2a55728b",
   "metadata": {},
   "outputs": [],
   "source": [
    "bad_col = data.columns[nan_count> 1e5]\n",
    "print(bad_col)\n",
    "good_col = data.columns[nan_count < 100] \n",
    "print(len(good_col))"
   ]
  },
  {
   "cell_type": "markdown",
   "id": "f5e8829d-764a-4846-ab7b-ed23eddad7a3",
   "metadata": {},
   "source": [
    "there are 19 features with no missing values, 52 features with fewer than 100 missing values, 94 features with fewer than 1000 missing values.<br>\n",
    "In the case of < 100 missing values, all columns with missing values share the same 12 indices. 2 of these are fraud.<br>\n",
    "In the case of < 1000 missing values, the missing values lie in 326 different rows. Among these, 19 of them are fraud. This ratio is a bit high."
   ]
  },
  {
   "cell_type": "code",
   "execution_count": null,
   "id": "aee21564-850f-4560-8238-0e48c4289e82",
   "metadata": {
    "scrolled": true
   },
   "outputs": [],
   "source": [
    "total_missing = []\n",
    "for col in good_col:\n",
    "    missing_idx = data.index[data[col].isna()].tolist()\n",
    "    total_missing.extend(missing_idx)\n",
    "\n",
    "print('number of rows with missing values', len(set(total_missing)))    \n",
    "print('fraudulent', sum(data.isFraud[list(set(total_missing))]))\n",
    "\n",
    "data_nomissing = data.drop(set(total_missing))\n",
    "data_label = data_nomissing['isFraud']\n",
    "data_features = data_nomissing.drop(columns=['isFraud'])"
   ]
  },
  {
   "cell_type": "markdown",
   "id": "8a564342-2bc2-4d04-8557-36ec627b78f3",
   "metadata": {},
   "source": [
    "## 2. Preprocessing: split by feature type\n",
    "Split into numerical and categorial columns. \n",
    "For categorical, use one hot or 1/0.\n",
    "For numerical, normalize. "
   ]
  },
  {
   "cell_type": "code",
   "execution_count": 4,
   "id": "1a15097d-4e15-4d1c-b26c-2f559dd22bb9",
   "metadata": {
    "collapsed": true,
    "jupyter": {
     "outputs_hidden": true
    },
    "scrolled": true
   },
   "outputs": [
    {
     "name": "stdout",
     "output_type": "stream",
     "text": [
      "Numerical columns: ['TransactionID', 'TransactionDT', 'TransactionAmt', 'card1', 'card2', 'card3', 'card5', 'addr1', 'addr2', 'dist1', 'dist2', 'C1', 'C2', 'C3', 'C4', 'C5', 'C6', 'C7', 'C8', 'C9', 'C10', 'C11', 'C12', 'C13', 'C14', 'D1', 'D2', 'D3', 'D4', 'D5', 'D6', 'D7', 'D8', 'D9', 'D10', 'D11', 'D12', 'D13', 'D14', 'D15', 'V1', 'V2', 'V3', 'V4', 'V5', 'V6', 'V7', 'V8', 'V9', 'V10', 'V11', 'V12', 'V13', 'V14', 'V15', 'V16', 'V17', 'V18', 'V19', 'V20', 'V21', 'V22', 'V23', 'V24', 'V25', 'V26', 'V27', 'V28', 'V29', 'V30', 'V31', 'V32', 'V33', 'V34', 'V35', 'V36', 'V37', 'V38', 'V39', 'V40', 'V41', 'V42', 'V43', 'V44', 'V45', 'V46', 'V47', 'V48', 'V49', 'V50', 'V51', 'V52', 'V53', 'V54', 'V55', 'V56', 'V57', 'V58', 'V59', 'V60', 'V61', 'V62', 'V63', 'V64', 'V65', 'V66', 'V67', 'V68', 'V69', 'V70', 'V71', 'V72', 'V73', 'V74', 'V75', 'V76', 'V77', 'V78', 'V79', 'V80', 'V81', 'V82', 'V83', 'V84', 'V85', 'V86', 'V87', 'V88', 'V89', 'V90', 'V91', 'V92', 'V93', 'V94', 'V95', 'V96', 'V97', 'V98', 'V99', 'V100', 'V101', 'V102', 'V103', 'V104', 'V105', 'V106', 'V107', 'V108', 'V109', 'V110', 'V111', 'V112', 'V113', 'V114', 'V115', 'V116', 'V117', 'V118', 'V119', 'V120', 'V121', 'V122', 'V123', 'V124', 'V125', 'V126', 'V127', 'V128', 'V129', 'V130', 'V131', 'V132', 'V133', 'V134', 'V135', 'V136', 'V137', 'V138', 'V139', 'V140', 'V141', 'V142', 'V143', 'V144', 'V145', 'V146', 'V147', 'V148', 'V149', 'V150', 'V151', 'V152', 'V153', 'V154', 'V155', 'V156', 'V157', 'V158', 'V159', 'V160', 'V161', 'V162', 'V163', 'V164', 'V165', 'V166', 'V167', 'V168', 'V169', 'V170', 'V171', 'V172', 'V173', 'V174', 'V175', 'V176', 'V177', 'V178', 'V179', 'V180', 'V181', 'V182', 'V183', 'V184', 'V185', 'V186', 'V187', 'V188', 'V189', 'V190', 'V191', 'V192', 'V193', 'V194', 'V195', 'V196', 'V197', 'V198', 'V199', 'V200', 'V201', 'V202', 'V203', 'V204', 'V205', 'V206', 'V207', 'V208', 'V209', 'V210', 'V211', 'V212', 'V213', 'V214', 'V215', 'V216', 'V217', 'V218', 'V219', 'V220', 'V221', 'V222', 'V223', 'V224', 'V225', 'V226', 'V227', 'V228', 'V229', 'V230', 'V231', 'V232', 'V233', 'V234', 'V235', 'V236', 'V237', 'V238', 'V239', 'V240', 'V241', 'V242', 'V243', 'V244', 'V245', 'V246', 'V247', 'V248', 'V249', 'V250', 'V251', 'V252', 'V253', 'V254', 'V255', 'V256', 'V257', 'V258', 'V259', 'V260', 'V261', 'V262', 'V263', 'V264', 'V265', 'V266', 'V267', 'V268', 'V269', 'V270', 'V271', 'V272', 'V273', 'V274', 'V275', 'V276', 'V277', 'V278', 'V279', 'V280', 'V281', 'V282', 'V283', 'V284', 'V285', 'V286', 'V287', 'V288', 'V289', 'V290', 'V291', 'V292', 'V293', 'V294', 'V295', 'V296', 'V297', 'V298', 'V299', 'V300', 'V301', 'V302', 'V303', 'V304', 'V305', 'V306', 'V307', 'V308', 'V309', 'V310', 'V311', 'V312', 'V313', 'V314', 'V315', 'V316', 'V317', 'V318', 'V319', 'V320', 'V321', 'V322', 'V323', 'V324', 'V325', 'V326', 'V327', 'V328', 'V329', 'V330', 'V331', 'V332', 'V333', 'V334', 'V335', 'V336', 'V337', 'V338', 'V339']\n",
      "Categorical columns: ['ProductCD', 'card4', 'card6', 'P_emaildomain', 'R_emaildomain', 'M1', 'M2', 'M3', 'M4', 'M5', 'M6', 'M7', 'M8', 'M9']\n"
     ]
    }
   ],
   "source": [
    "data_label = data.isFraud\n",
    "data_features = data.drop(columns=['isFraud'])\n",
    "\n",
    "# Numerical columns\n",
    "num_cols = data_features.select_dtypes(include=['int64', 'float64']).columns.tolist()\n",
    "print(\"Numerical columns:\", num_cols)\n",
    "\n",
    "# Categorical columns\n",
    "cat_cols = data_features.select_dtypes(include=['object', 'category']).columns.tolist()\n",
    "print(\"Categorical columns:\", cat_cols)"
   ]
  },
  {
   "cell_type": "markdown",
   "id": "04f52d35-bf26-428e-89f4-5ce6f1bb728c",
   "metadata": {},
   "source": [
    "### 2.1 Preprocessing: categorical features\n",
    "Among categorical columns, ProductCD has 5 values, card4 has 4, card6 has 4, ------> one hot <br>\n",
    "P_emaildomain, R_emaildomain have a lot (59 and 60)<br> \n",
    "M1-M9 except M4 are True False --------> convert to 1/0 <br>\n",
    "M4 has values M0, M2, M1 ----------> numerical 0, 2, 1"
   ]
  },
  {
   "cell_type": "code",
   "execution_count": null,
   "id": "145b9531-00a0-42c9-9587-6bef6aee4906",
   "metadata": {
    "scrolled": true
   },
   "outputs": [],
   "source": [
    "#for col in cat_cols:\n",
    "#    print(data[col].nunique())"
   ]
  },
  {
   "cell_type": "code",
   "execution_count": 9,
   "id": "55ab4eeb-a331-4b2b-bddd-6dc45ff23d96",
   "metadata": {},
   "outputs": [],
   "source": [
    "features_expanded = data_features.copy()"
   ]
  },
  {
   "cell_type": "code",
   "execution_count": 10,
   "id": "68352d3e-2070-4180-b27c-c6791619814c",
   "metadata": {
    "collapsed": true,
    "jupyter": {
     "outputs_hidden": true
    },
    "scrolled": true
   },
   "outputs": [
    {
     "data": {
      "text/plain": [
       "<bound method NDFrame.head of         TransactionID  TransactionDT  TransactionAmt  card1  card2  card3  \\\n",
       "0             2987000          86400           68.50  13926    NaN  150.0   \n",
       "1             2987001          86401           29.00   2755  404.0  150.0   \n",
       "2             2987002          86469           59.00   4663  490.0  150.0   \n",
       "3             2987003          86499           50.00  18132  567.0  150.0   \n",
       "4             2987004          86506           50.00   4497  514.0  150.0   \n",
       "...               ...            ...             ...    ...    ...    ...   \n",
       "590535        3577535       15811047           49.00   6550    NaN  150.0   \n",
       "590536        3577536       15811049           39.50  10444  225.0  150.0   \n",
       "590537        3577537       15811079           30.95  12037  595.0  150.0   \n",
       "590538        3577538       15811088          117.00   7826  481.0  150.0   \n",
       "590539        3577539       15811131          279.95  15066  170.0  150.0   \n",
       "\n",
       "        card5  addr1  addr2  dist1  ...  R_emaildomain_web.de  \\\n",
       "0       142.0  315.0   87.0   19.0  ...                     0   \n",
       "1       102.0  325.0   87.0    NaN  ...                     0   \n",
       "2       166.0  330.0   87.0  287.0  ...                     0   \n",
       "3       117.0  476.0   87.0    NaN  ...                     0   \n",
       "4       102.0  420.0   87.0    NaN  ...                     0   \n",
       "...       ...    ...    ...    ...  ...                   ...   \n",
       "590535  226.0  272.0   87.0   48.0  ...                     0   \n",
       "590536  224.0  204.0   87.0    NaN  ...                     0   \n",
       "590537  224.0  231.0   87.0    NaN  ...                     0   \n",
       "590538  224.0  387.0   87.0    3.0  ...                     0   \n",
       "590539  102.0  299.0   87.0    NaN  ...                     0   \n",
       "\n",
       "        R_emaildomain_windstream.net  R_emaildomain_yahoo.co.jp  \\\n",
       "0                                  0                          0   \n",
       "1                                  0                          0   \n",
       "2                                  0                          0   \n",
       "3                                  0                          0   \n",
       "4                                  0                          0   \n",
       "...                              ...                        ...   \n",
       "590535                             0                          0   \n",
       "590536                             0                          0   \n",
       "590537                             0                          0   \n",
       "590538                             0                          0   \n",
       "590539                             0                          0   \n",
       "\n",
       "        R_emaildomain_yahoo.co.uk  R_emaildomain_yahoo.com  \\\n",
       "0                               0                        0   \n",
       "1                               0                        0   \n",
       "2                               0                        0   \n",
       "3                               0                        0   \n",
       "4                               0                        0   \n",
       "...                           ...                      ...   \n",
       "590535                          0                        0   \n",
       "590536                          0                        0   \n",
       "590537                          0                        0   \n",
       "590538                          0                        0   \n",
       "590539                          0                        0   \n",
       "\n",
       "        R_emaildomain_yahoo.com.mx  R_emaildomain_yahoo.de  \\\n",
       "0                                0                       0   \n",
       "1                                0                       0   \n",
       "2                                0                       0   \n",
       "3                                0                       0   \n",
       "4                                0                       0   \n",
       "...                            ...                     ...   \n",
       "590535                           0                       0   \n",
       "590536                           0                       0   \n",
       "590537                           0                       0   \n",
       "590538                           0                       0   \n",
       "590539                           0                       0   \n",
       "\n",
       "        R_emaildomain_yahoo.es  R_emaildomain_yahoo.fr  \\\n",
       "0                            0                       0   \n",
       "1                            0                       0   \n",
       "2                            0                       0   \n",
       "3                            0                       0   \n",
       "4                            0                       0   \n",
       "...                        ...                     ...   \n",
       "590535                       0                       0   \n",
       "590536                       0                       0   \n",
       "590537                       0                       0   \n",
       "590538                       0                       0   \n",
       "590539                       0                       0   \n",
       "\n",
       "        R_emaildomain_ymail.com  \n",
       "0                             0  \n",
       "1                             0  \n",
       "2                             0  \n",
       "3                             0  \n",
       "4                             0  \n",
       "...                         ...  \n",
       "590535                        0  \n",
       "590536                        0  \n",
       "590537                        0  \n",
       "590538                        0  \n",
       "590539                        0  \n",
       "\n",
       "[590540 rows x 520 columns]>"
      ]
     },
     "execution_count": 10,
     "metadata": {},
     "output_type": "execute_result"
    }
   ],
   "source": [
    "for col in cat_cols: \n",
    "    if col[0] == 'M': \n",
    "        if col[1] != 4:\n",
    "            features_expanded[col] = features_expanded[col].map({'T': 1, 'F': 0})\n",
    "        else:\n",
    "            features_expanded[col] = features_expanded[col].map({'M0': 0, 'M1': 1, 'M2':2})\n",
    "    else:\n",
    "        features_expanded = pd.get_dummies(features_expanded, columns=[col], dtype=int)\n",
    "\n",
    "features_expanded.head"
   ]
  },
  {
   "cell_type": "markdown",
   "id": "0e3450a2-a850-44d6-869c-0e0ab40df48a",
   "metadata": {},
   "source": [
    "### 2.2 Preprocessing: scaling numerical features"
   ]
  },
  {
   "cell_type": "code",
   "execution_count": 11,
   "id": "3569d6e9-95ca-4746-9e41-318d893bf198",
   "metadata": {},
   "outputs": [],
   "source": [
    "from sklearn.preprocessing import StandardScaler, MinMaxScaler"
   ]
  },
  {
   "cell_type": "code",
   "execution_count": 12,
   "id": "34248f5d-dc41-4fed-aeb3-aa5af1998e8f",
   "metadata": {
    "scrolled": true
   },
   "outputs": [],
   "source": [
    "scaler = MinMaxScaler()\n",
    "features_normalized=features_expanded.copy()\n",
    "features_normalized[num_cols] = scaler.fit_transform(features_normalized[num_cols])"
   ]
  },
  {
   "cell_type": "code",
   "execution_count": 13,
   "id": "2258c997-4a8a-405d-bb9c-0ed77aaf12bc",
   "metadata": {},
   "outputs": [
    {
     "data": {
      "text/html": [
       "<div>\n",
       "<style scoped>\n",
       "    .dataframe tbody tr th:only-of-type {\n",
       "        vertical-align: middle;\n",
       "    }\n",
       "\n",
       "    .dataframe tbody tr th {\n",
       "        vertical-align: top;\n",
       "    }\n",
       "\n",
       "    .dataframe thead th {\n",
       "        text-align: right;\n",
       "    }\n",
       "</style>\n",
       "<table border=\"1\" class=\"dataframe\">\n",
       "  <thead>\n",
       "    <tr style=\"text-align: right;\">\n",
       "      <th></th>\n",
       "      <th>TransactionID</th>\n",
       "      <th>TransactionDT</th>\n",
       "      <th>TransactionAmt</th>\n",
       "      <th>card1</th>\n",
       "      <th>card2</th>\n",
       "      <th>card3</th>\n",
       "      <th>card5</th>\n",
       "      <th>addr1</th>\n",
       "      <th>addr2</th>\n",
       "      <th>dist1</th>\n",
       "      <th>...</th>\n",
       "      <th>R_emaildomain_web.de</th>\n",
       "      <th>R_emaildomain_windstream.net</th>\n",
       "      <th>R_emaildomain_yahoo.co.jp</th>\n",
       "      <th>R_emaildomain_yahoo.co.uk</th>\n",
       "      <th>R_emaildomain_yahoo.com</th>\n",
       "      <th>R_emaildomain_yahoo.com.mx</th>\n",
       "      <th>R_emaildomain_yahoo.de</th>\n",
       "      <th>R_emaildomain_yahoo.es</th>\n",
       "      <th>R_emaildomain_yahoo.fr</th>\n",
       "      <th>R_emaildomain_ymail.com</th>\n",
       "    </tr>\n",
       "  </thead>\n",
       "  <tbody>\n",
       "    <tr>\n",
       "      <th>0</th>\n",
       "      <td>0.000000</td>\n",
       "      <td>0.000000e+00</td>\n",
       "      <td>0.002137</td>\n",
       "      <td>0.743044</td>\n",
       "      <td>NaN</td>\n",
       "      <td>0.381679</td>\n",
       "      <td>0.306569</td>\n",
       "      <td>0.488636</td>\n",
       "      <td>0.836957</td>\n",
       "      <td>0.001847</td>\n",
       "      <td>...</td>\n",
       "      <td>0</td>\n",
       "      <td>0</td>\n",
       "      <td>0</td>\n",
       "      <td>0</td>\n",
       "      <td>0</td>\n",
       "      <td>0</td>\n",
       "      <td>0</td>\n",
       "      <td>0</td>\n",
       "      <td>0</td>\n",
       "      <td>0</td>\n",
       "    </tr>\n",
       "    <tr>\n",
       "      <th>1</th>\n",
       "      <td>0.000002</td>\n",
       "      <td>6.359409e-08</td>\n",
       "      <td>0.000900</td>\n",
       "      <td>0.100885</td>\n",
       "      <td>0.608</td>\n",
       "      <td>0.381679</td>\n",
       "      <td>0.014599</td>\n",
       "      <td>0.511364</td>\n",
       "      <td>0.836957</td>\n",
       "      <td>NaN</td>\n",
       "      <td>...</td>\n",
       "      <td>0</td>\n",
       "      <td>0</td>\n",
       "      <td>0</td>\n",
       "      <td>0</td>\n",
       "      <td>0</td>\n",
       "      <td>0</td>\n",
       "      <td>0</td>\n",
       "      <td>0</td>\n",
       "      <td>0</td>\n",
       "      <td>0</td>\n",
       "    </tr>\n",
       "    <tr>\n",
       "      <th>2</th>\n",
       "      <td>0.000003</td>\n",
       "      <td>4.387992e-06</td>\n",
       "      <td>0.001840</td>\n",
       "      <td>0.210566</td>\n",
       "      <td>0.780</td>\n",
       "      <td>0.381679</td>\n",
       "      <td>0.481752</td>\n",
       "      <td>0.522727</td>\n",
       "      <td>0.836957</td>\n",
       "      <td>0.027902</td>\n",
       "      <td>...</td>\n",
       "      <td>0</td>\n",
       "      <td>0</td>\n",
       "      <td>0</td>\n",
       "      <td>0</td>\n",
       "      <td>0</td>\n",
       "      <td>0</td>\n",
       "      <td>0</td>\n",
       "      <td>0</td>\n",
       "      <td>0</td>\n",
       "      <td>0</td>\n",
       "    </tr>\n",
       "    <tr>\n",
       "      <th>3</th>\n",
       "      <td>0.000005</td>\n",
       "      <td>6.295815e-06</td>\n",
       "      <td>0.001558</td>\n",
       "      <td>0.984824</td>\n",
       "      <td>0.934</td>\n",
       "      <td>0.381679</td>\n",
       "      <td>0.124088</td>\n",
       "      <td>0.854545</td>\n",
       "      <td>0.836957</td>\n",
       "      <td>NaN</td>\n",
       "      <td>...</td>\n",
       "      <td>0</td>\n",
       "      <td>0</td>\n",
       "      <td>0</td>\n",
       "      <td>0</td>\n",
       "      <td>0</td>\n",
       "      <td>0</td>\n",
       "      <td>0</td>\n",
       "      <td>0</td>\n",
       "      <td>0</td>\n",
       "      <td>0</td>\n",
       "    </tr>\n",
       "    <tr>\n",
       "      <th>4</th>\n",
       "      <td>0.000007</td>\n",
       "      <td>6.740974e-06</td>\n",
       "      <td>0.001558</td>\n",
       "      <td>0.201023</td>\n",
       "      <td>0.828</td>\n",
       "      <td>0.381679</td>\n",
       "      <td>0.014599</td>\n",
       "      <td>0.727273</td>\n",
       "      <td>0.836957</td>\n",
       "      <td>NaN</td>\n",
       "      <td>...</td>\n",
       "      <td>0</td>\n",
       "      <td>0</td>\n",
       "      <td>0</td>\n",
       "      <td>0</td>\n",
       "      <td>0</td>\n",
       "      <td>0</td>\n",
       "      <td>0</td>\n",
       "      <td>0</td>\n",
       "      <td>0</td>\n",
       "      <td>0</td>\n",
       "    </tr>\n",
       "  </tbody>\n",
       "</table>\n",
       "<p>5 rows × 520 columns</p>\n",
       "</div>"
      ],
      "text/plain": [
       "   TransactionID  TransactionDT  TransactionAmt     card1  card2     card3  \\\n",
       "0       0.000000   0.000000e+00        0.002137  0.743044    NaN  0.381679   \n",
       "1       0.000002   6.359409e-08        0.000900  0.100885  0.608  0.381679   \n",
       "2       0.000003   4.387992e-06        0.001840  0.210566  0.780  0.381679   \n",
       "3       0.000005   6.295815e-06        0.001558  0.984824  0.934  0.381679   \n",
       "4       0.000007   6.740974e-06        0.001558  0.201023  0.828  0.381679   \n",
       "\n",
       "      card5     addr1     addr2     dist1  ...  R_emaildomain_web.de  \\\n",
       "0  0.306569  0.488636  0.836957  0.001847  ...                     0   \n",
       "1  0.014599  0.511364  0.836957       NaN  ...                     0   \n",
       "2  0.481752  0.522727  0.836957  0.027902  ...                     0   \n",
       "3  0.124088  0.854545  0.836957       NaN  ...                     0   \n",
       "4  0.014599  0.727273  0.836957       NaN  ...                     0   \n",
       "\n",
       "   R_emaildomain_windstream.net  R_emaildomain_yahoo.co.jp  \\\n",
       "0                             0                          0   \n",
       "1                             0                          0   \n",
       "2                             0                          0   \n",
       "3                             0                          0   \n",
       "4                             0                          0   \n",
       "\n",
       "   R_emaildomain_yahoo.co.uk  R_emaildomain_yahoo.com  \\\n",
       "0                          0                        0   \n",
       "1                          0                        0   \n",
       "2                          0                        0   \n",
       "3                          0                        0   \n",
       "4                          0                        0   \n",
       "\n",
       "   R_emaildomain_yahoo.com.mx  R_emaildomain_yahoo.de  R_emaildomain_yahoo.es  \\\n",
       "0                           0                       0                       0   \n",
       "1                           0                       0                       0   \n",
       "2                           0                       0                       0   \n",
       "3                           0                       0                       0   \n",
       "4                           0                       0                       0   \n",
       "\n",
       "   R_emaildomain_yahoo.fr  R_emaildomain_ymail.com  \n",
       "0                       0                        0  \n",
       "1                       0                        0  \n",
       "2                       0                        0  \n",
       "3                       0                        0  \n",
       "4                       0                        0  \n",
       "\n",
       "[5 rows x 520 columns]"
      ]
     },
     "execution_count": 13,
     "metadata": {},
     "output_type": "execute_result"
    }
   ],
   "source": [
    "features_normalized.head()"
   ]
  },
  {
   "cell_type": "markdown",
   "id": "fa457312-7a10-4545-a351-3c5482a5ccb1",
   "metadata": {},
   "source": [
    "## 3. Autoencoder"
   ]
  },
  {
   "cell_type": "code",
   "execution_count": 15,
   "id": "fc05b5cd-0eb4-4126-afa0-ac841d9b3888",
   "metadata": {},
   "outputs": [],
   "source": [
    "import torch\n",
    "import torch.nn as nn\n",
    "import torch.optim as optim\n",
    "import numpy as np"
   ]
  },
  {
   "cell_type": "code",
   "execution_count": 27,
   "id": "c59ddadd-b8e7-461e-b2f6-11fbf3fa0721",
   "metadata": {},
   "outputs": [],
   "source": [
    "# Convert to torch tensors\n",
    "X = torch.from_numpy(features_normalized.to_numpy())\n",
    "mask = ~torch.isnan(X)  # True where data is present\n",
    "X_filled = torch.nan_to_num(X, nan=0.0)  # Replace NaNs with 0\n",
    "X_filled = X_filled.float() # convert to all double (twice precision as float)"
   ]
  },
  {
   "cell_type": "code",
   "execution_count": 20,
   "id": "216efe5b-7e88-4747-ba9c-e9c60565de14",
   "metadata": {},
   "outputs": [],
   "source": [
    "# Define the autoencoder\n",
    "class Autoencoder(nn.Module): # here the input nn.Module specifies the super class that Autoencoder is in\n",
    "    # we are making an object class by modifying an existing class nn.Module\n",
    "    def __init__(self, input_dim, latent_dim=64):\n",
    "        super().__init__() # calls initialization of nn.Module object \n",
    "        self.encoder = nn.Sequential(\n",
    "            nn.Linear(input_dim, 256),\n",
    "            nn.ReLU(), # this is also a layer but has no weights\n",
    "            nn.Linear(256, 128),\n",
    "            nn.ReLU(),\n",
    "            nn.Linear(128, latent_dim),\n",
    "        )\n",
    "        self.decoder = nn.Sequential(\n",
    "            nn.Linear(latent_dim, 128),\n",
    "            nn.ReLU(),\n",
    "            nn.Linear(128, 256),\n",
    "            nn.ReLU(),\n",
    "            nn.Linear(256, input_dim),\n",
    "        )\n",
    "\n",
    "    def forward(self, x):\n",
    "        latent = self.encoder(x)\n",
    "        return self.decoder(latent)"
   ]
  },
  {
   "cell_type": "code",
   "execution_count": 30,
   "id": "959c9f3b-04cd-4681-aef2-8370010c8ad0",
   "metadata": {},
   "outputs": [],
   "source": [
    "# Initialize model, optimizer, and loss\n",
    "model = Autoencoder(input_dim=X_filled.shape[1]) # input size has to be number of features\n",
    "optimizer = optim.Adam(model.parameters(), lr=0.01)\n",
    "criterion = nn.MSELoss(reduction='none')  # So we can apply a mask\n"
   ]
  },
  {
   "cell_type": "code",
   "execution_count": 32,
   "id": "c8a8f567-4ce7-4f87-a320-589857200876",
   "metadata": {},
   "outputs": [
    {
     "name": "stdout",
     "output_type": "stream",
     "text": [
      "Epoch 1, Loss: 0.0477\n",
      "Epoch 2, Loss: 0.0373\n",
      "Epoch 3, Loss: 0.0294\n",
      "Epoch 4, Loss: 0.0215\n",
      "Epoch 5, Loss: 0.0204\n"
     ]
    }
   ],
   "source": [
    "# Training loop\n",
    "epochs = 5\n",
    "for epoch in range(epochs):\n",
    "    model.train()\n",
    "    optimizer.zero_grad()\n",
    "\n",
    "    output = model(X_filled)\n",
    "    loss_matrix = criterion(output, X_filled)  # [batch, features]\n",
    "    masked_loss = loss_matrix * mask.float()\n",
    "    loss = masked_loss.sum() / mask.sum()  # average over observed values only\n",
    "\n",
    "    loss.backward()\n",
    "    optimizer.step()\n",
    "    \n",
    "    print(f\"Epoch {epoch+1}, Loss: {loss.item():.4f}\")"
   ]
  },
  {
   "cell_type": "code",
   "execution_count": null,
   "id": "2ab9e54a-05c6-4089-bcfc-3c92b75c5bac",
   "metadata": {},
   "outputs": [],
   "source": []
  },
  {
   "cell_type": "code",
   "execution_count": null,
   "id": "667b8c68-9b23-46d0-8bd9-6c1199798081",
   "metadata": {},
   "outputs": [],
   "source": []
  },
  {
   "cell_type": "code",
   "execution_count": null,
   "id": "39c876d2-07ea-4460-ba00-71b646cbbd2a",
   "metadata": {},
   "outputs": [],
   "source": []
  },
  {
   "cell_type": "code",
   "execution_count": null,
   "id": "a63abf5f-f37e-4057-ab22-2ded1bc9ede1",
   "metadata": {},
   "outputs": [],
   "source": []
  },
  {
   "cell_type": "code",
   "execution_count": null,
   "id": "aa71cdb0-672e-4016-b436-f9842a41727b",
   "metadata": {},
   "outputs": [],
   "source": []
  }
 ],
 "metadata": {
  "kernelspec": {
   "display_name": "Python 3 (ipykernel)",
   "language": "python",
   "name": "python3"
  },
  "language_info": {
   "codemirror_mode": {
    "name": "ipython",
    "version": 3
   },
   "file_extension": ".py",
   "mimetype": "text/x-python",
   "name": "python",
   "nbconvert_exporter": "python",
   "pygments_lexer": "ipython3",
   "version": "3.9.21"
  }
 },
 "nbformat": 4,
 "nbformat_minor": 5
}
