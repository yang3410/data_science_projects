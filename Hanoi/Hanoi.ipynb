{
 "cells": [
  {
   "cell_type": "code",
   "execution_count": 1,
   "id": "21761fb2-9630-48c1-9f53-14465df42752",
   "metadata": {},
   "outputs": [],
   "source": [
    "import numpy as np"
   ]
  },
  {
   "cell_type": "code",
   "execution_count": 10,
   "id": "dde2927f-ce0f-4dc7-ae7a-06c5a8231879",
   "metadata": {},
   "outputs": [],
   "source": [
    "def solve(n, start, interm, end):\n",
    "    if n == 1:\n",
    "        print(f'move 1 from {start} to {end}')\n",
    "        return\n",
    "    else: \n",
    "        solve(n - 1, start, end, interm)\n",
    "        print(f'move 1 from {start} to {end}')\n",
    "        solve(n - 1, interm, start, end)\n"
   ]
  },
  {
   "cell_type": "code",
   "execution_count": 13,
   "id": "efda7f4a-e187-43a1-b3e9-bc187c69fdef",
   "metadata": {},
   "outputs": [
    {
     "name": "stdout",
     "output_type": "stream",
     "text": [
      "move 1 from A to B\n",
      "move 1 from A to C\n",
      "move 1 from B to C\n",
      "move 1 from A to B\n",
      "move 1 from C to A\n",
      "move 1 from C to B\n",
      "move 1 from A to B\n",
      "move 1 from A to C\n",
      "move 1 from B to C\n",
      "move 1 from B to A\n",
      "move 1 from C to A\n",
      "move 1 from B to C\n",
      "move 1 from A to B\n",
      "move 1 from A to C\n",
      "move 1 from B to C\n"
     ]
    }
   ],
   "source": [
    "solve(4, 'A', 'B', 'C')"
   ]
  },
  {
   "cell_type": "code",
   "execution_count": null,
   "id": "0d46bbc3-981e-4b82-9999-807aa2afb1c4",
   "metadata": {},
   "outputs": [],
   "source": []
  },
  {
   "cell_type": "code",
   "execution_count": null,
   "id": "08bd7e57-8c45-4abc-bf1e-a317172240fd",
   "metadata": {},
   "outputs": [],
   "source": []
  }
 ],
 "metadata": {
  "kernelspec": {
   "display_name": "Python 3 (ipykernel)",
   "language": "python",
   "name": "python3"
  },
  "language_info": {
   "codemirror_mode": {
    "name": "ipython",
    "version": 3
   },
   "file_extension": ".py",
   "mimetype": "text/x-python",
   "name": "python",
   "nbconvert_exporter": "python",
   "pygments_lexer": "ipython3",
   "version": "3.9.21"
  }
 },
 "nbformat": 4,
 "nbformat_minor": 5
}
